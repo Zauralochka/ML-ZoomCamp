{
 "cells": [
  {
   "cell_type": "markdown",
   "id": "bc710c21",
   "metadata": {},
   "source": [
    "# Homework\n",
    "Note: sometimes your answer doesn't match one of the options exactly. That's fine. Select the option that's closest to your solution.\n",
    "\n",
    "### Dataset\n",
    "In this homework, we will use the Car price dataset. Download it from here.\n",
    "\n",
    "Or you can do it with wget:\n",
    "\n",
    "`wget https://raw.githubusercontent.com/alexeygrigorev/mlbookcamp-code/master/chapter-02-car-price/data.csv`\n",
    "We'll keep working with the MSRP variable, and we'll transform it to a classification task.\n",
    "\n",
    "### Features\n",
    "For the rest of the homework, you'll need to use only these columns:\n",
    "\n",
    "* `Make`,\n",
    "* `Model`,\n",
    "* `Year`,\n",
    "* `Engine HP`,\n",
    "* `Engine Cylinders`,\n",
    "* `Transmission Type`,\n",
    "* `Vehicle Style`,\n",
    "* `highway MPG`,\n",
    "* `city mpg`\n",
    "\n",
    "### Data preparation\n",
    "* Select only the features from above and transform their names using next line:\n",
    "`data.columns = data.columns.str.replace(' ', '_').str.lower()`\n",
    "* Fill in the missing values of the selected features with 0.\n",
    "* Rename MSRP variable to price."
   ]
  },
  {
   "cell_type": "code",
   "execution_count": 23,
   "id": "bd87563e",
   "metadata": {},
   "outputs": [],
   "source": [
    "# import libraries\n",
    "import pandas as pd\n",
    "import numpy as np\n",
    "\n",
    "import seaborn as sns # for visualization\n",
    "from matplotlib import pyplot as plt\n",
    "%matplotlib inline"
   ]
  },
  {
   "cell_type": "code",
   "execution_count": 24,
   "id": "2c4776b2",
   "metadata": {},
   "outputs": [],
   "source": [
    "# get the data\n",
    "data_link = 'https://raw.githubusercontent.com/alexeygrigorev/mlbookcamp-code/master/chapter-02-car-price/data.csv'"
   ]
  },
  {
   "cell_type": "code",
   "execution_count": 25,
   "id": "b37285f6",
   "metadata": {},
   "outputs": [
    {
     "name": "stdout",
     "output_type": "stream",
     "text": [
      "--2023-10-02 21:47:55--  https://raw.githubusercontent.com/alexeygrigorev/mlbookcamp-code/master/chapter-02-car-price/data.csv\n",
      "Resolving raw.githubusercontent.com (raw.githubusercontent.com)... 185.199.109.133, 185.199.110.133, 185.199.111.133, ...\n",
      "Connecting to raw.githubusercontent.com (raw.githubusercontent.com)|185.199.109.133|:443... connected.\n",
      "HTTP request sent, awaiting response... 200 OK\n",
      "Length: 1475504 (1.4M) [text/plain]\n",
      "Saving to: 'data.csv.1'\n",
      "\n",
      "data.csv.1          100%[===================>]   1.41M  --.-KB/s    in 0.1s    \n",
      "\n",
      "2023-10-02 21:47:56 (12.1 MB/s) - 'data.csv.1' saved [1475504/1475504]\n",
      "\n"
     ]
    }
   ],
   "source": [
    "!wget $data_link"
   ]
  },
  {
   "cell_type": "code",
   "execution_count": 26,
   "id": "a0f6d74d",
   "metadata": {},
   "outputs": [
    {
     "data": {
      "text/html": [
       "<div>\n",
       "<style scoped>\n",
       "    .dataframe tbody tr th:only-of-type {\n",
       "        vertical-align: middle;\n",
       "    }\n",
       "\n",
       "    .dataframe tbody tr th {\n",
       "        vertical-align: top;\n",
       "    }\n",
       "\n",
       "    .dataframe thead th {\n",
       "        text-align: right;\n",
       "    }\n",
       "</style>\n",
       "<table border=\"1\" class=\"dataframe\">\n",
       "  <thead>\n",
       "    <tr style=\"text-align: right;\">\n",
       "      <th></th>\n",
       "      <th>Make</th>\n",
       "      <th>Model</th>\n",
       "      <th>Year</th>\n",
       "      <th>Engine Fuel Type</th>\n",
       "      <th>Engine HP</th>\n",
       "      <th>Engine Cylinders</th>\n",
       "      <th>Transmission Type</th>\n",
       "      <th>Driven_Wheels</th>\n",
       "      <th>Number of Doors</th>\n",
       "      <th>Market Category</th>\n",
       "      <th>Vehicle Size</th>\n",
       "      <th>Vehicle Style</th>\n",
       "      <th>highway MPG</th>\n",
       "      <th>city mpg</th>\n",
       "      <th>Popularity</th>\n",
       "      <th>MSRP</th>\n",
       "    </tr>\n",
       "  </thead>\n",
       "  <tbody>\n",
       "    <tr>\n",
       "      <th>0</th>\n",
       "      <td>BMW</td>\n",
       "      <td>1 Series M</td>\n",
       "      <td>2011</td>\n",
       "      <td>premium unleaded (required)</td>\n",
       "      <td>335.0</td>\n",
       "      <td>6.0</td>\n",
       "      <td>MANUAL</td>\n",
       "      <td>rear wheel drive</td>\n",
       "      <td>2.0</td>\n",
       "      <td>Factory Tuner,Luxury,High-Performance</td>\n",
       "      <td>Compact</td>\n",
       "      <td>Coupe</td>\n",
       "      <td>26</td>\n",
       "      <td>19</td>\n",
       "      <td>3916</td>\n",
       "      <td>46135</td>\n",
       "    </tr>\n",
       "    <tr>\n",
       "      <th>1</th>\n",
       "      <td>BMW</td>\n",
       "      <td>1 Series</td>\n",
       "      <td>2011</td>\n",
       "      <td>premium unleaded (required)</td>\n",
       "      <td>300.0</td>\n",
       "      <td>6.0</td>\n",
       "      <td>MANUAL</td>\n",
       "      <td>rear wheel drive</td>\n",
       "      <td>2.0</td>\n",
       "      <td>Luxury,Performance</td>\n",
       "      <td>Compact</td>\n",
       "      <td>Convertible</td>\n",
       "      <td>28</td>\n",
       "      <td>19</td>\n",
       "      <td>3916</td>\n",
       "      <td>40650</td>\n",
       "    </tr>\n",
       "    <tr>\n",
       "      <th>2</th>\n",
       "      <td>BMW</td>\n",
       "      <td>1 Series</td>\n",
       "      <td>2011</td>\n",
       "      <td>premium unleaded (required)</td>\n",
       "      <td>300.0</td>\n",
       "      <td>6.0</td>\n",
       "      <td>MANUAL</td>\n",
       "      <td>rear wheel drive</td>\n",
       "      <td>2.0</td>\n",
       "      <td>Luxury,High-Performance</td>\n",
       "      <td>Compact</td>\n",
       "      <td>Coupe</td>\n",
       "      <td>28</td>\n",
       "      <td>20</td>\n",
       "      <td>3916</td>\n",
       "      <td>36350</td>\n",
       "    </tr>\n",
       "    <tr>\n",
       "      <th>3</th>\n",
       "      <td>BMW</td>\n",
       "      <td>1 Series</td>\n",
       "      <td>2011</td>\n",
       "      <td>premium unleaded (required)</td>\n",
       "      <td>230.0</td>\n",
       "      <td>6.0</td>\n",
       "      <td>MANUAL</td>\n",
       "      <td>rear wheel drive</td>\n",
       "      <td>2.0</td>\n",
       "      <td>Luxury,Performance</td>\n",
       "      <td>Compact</td>\n",
       "      <td>Coupe</td>\n",
       "      <td>28</td>\n",
       "      <td>18</td>\n",
       "      <td>3916</td>\n",
       "      <td>29450</td>\n",
       "    </tr>\n",
       "    <tr>\n",
       "      <th>4</th>\n",
       "      <td>BMW</td>\n",
       "      <td>1 Series</td>\n",
       "      <td>2011</td>\n",
       "      <td>premium unleaded (required)</td>\n",
       "      <td>230.0</td>\n",
       "      <td>6.0</td>\n",
       "      <td>MANUAL</td>\n",
       "      <td>rear wheel drive</td>\n",
       "      <td>2.0</td>\n",
       "      <td>Luxury</td>\n",
       "      <td>Compact</td>\n",
       "      <td>Convertible</td>\n",
       "      <td>28</td>\n",
       "      <td>18</td>\n",
       "      <td>3916</td>\n",
       "      <td>34500</td>\n",
       "    </tr>\n",
       "  </tbody>\n",
       "</table>\n",
       "</div>"
      ],
      "text/plain": [
       "  Make       Model  Year             Engine Fuel Type  Engine HP  \\\n",
       "0  BMW  1 Series M  2011  premium unleaded (required)      335.0   \n",
       "1  BMW    1 Series  2011  premium unleaded (required)      300.0   \n",
       "2  BMW    1 Series  2011  premium unleaded (required)      300.0   \n",
       "3  BMW    1 Series  2011  premium unleaded (required)      230.0   \n",
       "4  BMW    1 Series  2011  premium unleaded (required)      230.0   \n",
       "\n",
       "   Engine Cylinders Transmission Type     Driven_Wheels  Number of Doors  \\\n",
       "0               6.0            MANUAL  rear wheel drive              2.0   \n",
       "1               6.0            MANUAL  rear wheel drive              2.0   \n",
       "2               6.0            MANUAL  rear wheel drive              2.0   \n",
       "3               6.0            MANUAL  rear wheel drive              2.0   \n",
       "4               6.0            MANUAL  rear wheel drive              2.0   \n",
       "\n",
       "                         Market Category Vehicle Size Vehicle Style  \\\n",
       "0  Factory Tuner,Luxury,High-Performance      Compact         Coupe   \n",
       "1                     Luxury,Performance      Compact   Convertible   \n",
       "2                Luxury,High-Performance      Compact         Coupe   \n",
       "3                     Luxury,Performance      Compact         Coupe   \n",
       "4                                 Luxury      Compact   Convertible   \n",
       "\n",
       "   highway MPG  city mpg  Popularity   MSRP  \n",
       "0           26        19        3916  46135  \n",
       "1           28        19        3916  40650  \n",
       "2           28        20        3916  36350  \n",
       "3           28        18        3916  29450  \n",
       "4           28        18        3916  34500  "
      ]
     },
     "execution_count": 26,
     "metadata": {},
     "output_type": "execute_result"
    }
   ],
   "source": [
    "# load data set \n",
    "data = pd.read_csv('data.csv')\n",
    "data.head()"
   ]
  },
  {
   "cell_type": "code",
   "execution_count": 34,
   "id": "232bce98",
   "metadata": {},
   "outputs": [],
   "source": [
    "columns = [\n",
    "    'Make', 'Model', 'Year', \n",
    "    'Engine HP', 'Engine Cylinders', \n",
    "    'Transmission Type', 'Vehicle Style', 'highway MPG', 'city mpg', 'MSRP']"
   ]
  },
  {
   "cell_type": "code",
   "execution_count": 35,
   "id": "23a3989d",
   "metadata": {},
   "outputs": [],
   "source": [
    "df = data[columns]"
   ]
  },
  {
   "cell_type": "code",
   "execution_count": 36,
   "id": "20928bed",
   "metadata": {},
   "outputs": [],
   "source": [
    "df.columns = df.columns.str.replace(' ', '_').str.lower()"
   ]
  },
  {
   "cell_type": "code",
   "execution_count": 37,
   "id": "123a7a27",
   "metadata": {},
   "outputs": [
    {
     "data": {
      "text/html": [
       "<div>\n",
       "<style scoped>\n",
       "    .dataframe tbody tr th:only-of-type {\n",
       "        vertical-align: middle;\n",
       "    }\n",
       "\n",
       "    .dataframe tbody tr th {\n",
       "        vertical-align: top;\n",
       "    }\n",
       "\n",
       "    .dataframe thead th {\n",
       "        text-align: right;\n",
       "    }\n",
       "</style>\n",
       "<table border=\"1\" class=\"dataframe\">\n",
       "  <thead>\n",
       "    <tr style=\"text-align: right;\">\n",
       "      <th></th>\n",
       "      <th>make</th>\n",
       "      <th>model</th>\n",
       "      <th>year</th>\n",
       "      <th>engine_hp</th>\n",
       "      <th>engine_cylinders</th>\n",
       "      <th>transmission_type</th>\n",
       "      <th>vehicle_style</th>\n",
       "      <th>highway_mpg</th>\n",
       "      <th>city_mpg</th>\n",
       "      <th>msrp</th>\n",
       "    </tr>\n",
       "  </thead>\n",
       "  <tbody>\n",
       "    <tr>\n",
       "      <th>0</th>\n",
       "      <td>BMW</td>\n",
       "      <td>1 Series M</td>\n",
       "      <td>2011</td>\n",
       "      <td>335.0</td>\n",
       "      <td>6.0</td>\n",
       "      <td>MANUAL</td>\n",
       "      <td>Coupe</td>\n",
       "      <td>26</td>\n",
       "      <td>19</td>\n",
       "      <td>46135</td>\n",
       "    </tr>\n",
       "    <tr>\n",
       "      <th>1</th>\n",
       "      <td>BMW</td>\n",
       "      <td>1 Series</td>\n",
       "      <td>2011</td>\n",
       "      <td>300.0</td>\n",
       "      <td>6.0</td>\n",
       "      <td>MANUAL</td>\n",
       "      <td>Convertible</td>\n",
       "      <td>28</td>\n",
       "      <td>19</td>\n",
       "      <td>40650</td>\n",
       "    </tr>\n",
       "    <tr>\n",
       "      <th>2</th>\n",
       "      <td>BMW</td>\n",
       "      <td>1 Series</td>\n",
       "      <td>2011</td>\n",
       "      <td>300.0</td>\n",
       "      <td>6.0</td>\n",
       "      <td>MANUAL</td>\n",
       "      <td>Coupe</td>\n",
       "      <td>28</td>\n",
       "      <td>20</td>\n",
       "      <td>36350</td>\n",
       "    </tr>\n",
       "    <tr>\n",
       "      <th>3</th>\n",
       "      <td>BMW</td>\n",
       "      <td>1 Series</td>\n",
       "      <td>2011</td>\n",
       "      <td>230.0</td>\n",
       "      <td>6.0</td>\n",
       "      <td>MANUAL</td>\n",
       "      <td>Coupe</td>\n",
       "      <td>28</td>\n",
       "      <td>18</td>\n",
       "      <td>29450</td>\n",
       "    </tr>\n",
       "    <tr>\n",
       "      <th>4</th>\n",
       "      <td>BMW</td>\n",
       "      <td>1 Series</td>\n",
       "      <td>2011</td>\n",
       "      <td>230.0</td>\n",
       "      <td>6.0</td>\n",
       "      <td>MANUAL</td>\n",
       "      <td>Convertible</td>\n",
       "      <td>28</td>\n",
       "      <td>18</td>\n",
       "      <td>34500</td>\n",
       "    </tr>\n",
       "  </tbody>\n",
       "</table>\n",
       "</div>"
      ],
      "text/plain": [
       "  make       model  year  engine_hp  engine_cylinders transmission_type  \\\n",
       "0  BMW  1 Series M  2011      335.0               6.0            MANUAL   \n",
       "1  BMW    1 Series  2011      300.0               6.0            MANUAL   \n",
       "2  BMW    1 Series  2011      300.0               6.0            MANUAL   \n",
       "3  BMW    1 Series  2011      230.0               6.0            MANUAL   \n",
       "4  BMW    1 Series  2011      230.0               6.0            MANUAL   \n",
       "\n",
       "  vehicle_style  highway_mpg  city_mpg   msrp  \n",
       "0         Coupe           26        19  46135  \n",
       "1   Convertible           28        19  40650  \n",
       "2         Coupe           28        20  36350  \n",
       "3         Coupe           28        18  29450  \n",
       "4   Convertible           28        18  34500  "
      ]
     },
     "execution_count": 37,
     "metadata": {},
     "output_type": "execute_result"
    }
   ],
   "source": [
    "df.head()"
   ]
  },
  {
   "cell_type": "code",
   "execution_count": 38,
   "id": "0c99aaab",
   "metadata": {},
   "outputs": [
    {
     "data": {
      "text/plain": [
       "make                  0\n",
       "model                 0\n",
       "year                  0\n",
       "engine_hp            69\n",
       "engine_cylinders     30\n",
       "transmission_type     0\n",
       "vehicle_style         0\n",
       "highway_mpg           0\n",
       "city_mpg              0\n",
       "msrp                  0\n",
       "dtype: int64"
      ]
     },
     "execution_count": 38,
     "metadata": {},
     "output_type": "execute_result"
    }
   ],
   "source": [
    "df.isna().sum()"
   ]
  },
  {
   "cell_type": "code",
   "execution_count": 39,
   "id": "76fe7c75",
   "metadata": {},
   "outputs": [],
   "source": [
    "df = df.copy().fillna(0)"
   ]
  },
  {
   "cell_type": "code",
   "execution_count": 40,
   "id": "72c39ccf",
   "metadata": {},
   "outputs": [
    {
     "data": {
      "text/plain": [
       "make                 0\n",
       "model                0\n",
       "year                 0\n",
       "engine_hp            0\n",
       "engine_cylinders     0\n",
       "transmission_type    0\n",
       "vehicle_style        0\n",
       "highway_mpg          0\n",
       "city_mpg             0\n",
       "msrp                 0\n",
       "dtype: int64"
      ]
     },
     "execution_count": 40,
     "metadata": {},
     "output_type": "execute_result"
    }
   ],
   "source": [
    "df.isna().sum()"
   ]
  },
  {
   "cell_type": "code",
   "execution_count": 42,
   "id": "0c5df4f5",
   "metadata": {},
   "outputs": [],
   "source": [
    "df = df.rename(columns = {'msrp': 'price'})"
   ]
  },
  {
   "cell_type": "code",
   "execution_count": 43,
   "id": "5431639b",
   "metadata": {},
   "outputs": [
    {
     "data": {
      "text/html": [
       "<div>\n",
       "<style scoped>\n",
       "    .dataframe tbody tr th:only-of-type {\n",
       "        vertical-align: middle;\n",
       "    }\n",
       "\n",
       "    .dataframe tbody tr th {\n",
       "        vertical-align: top;\n",
       "    }\n",
       "\n",
       "    .dataframe thead th {\n",
       "        text-align: right;\n",
       "    }\n",
       "</style>\n",
       "<table border=\"1\" class=\"dataframe\">\n",
       "  <thead>\n",
       "    <tr style=\"text-align: right;\">\n",
       "      <th></th>\n",
       "      <th>make</th>\n",
       "      <th>model</th>\n",
       "      <th>year</th>\n",
       "      <th>engine_hp</th>\n",
       "      <th>engine_cylinders</th>\n",
       "      <th>transmission_type</th>\n",
       "      <th>vehicle_style</th>\n",
       "      <th>highway_mpg</th>\n",
       "      <th>city_mpg</th>\n",
       "      <th>price</th>\n",
       "    </tr>\n",
       "  </thead>\n",
       "  <tbody>\n",
       "    <tr>\n",
       "      <th>0</th>\n",
       "      <td>BMW</td>\n",
       "      <td>1 Series M</td>\n",
       "      <td>2011</td>\n",
       "      <td>335.0</td>\n",
       "      <td>6.0</td>\n",
       "      <td>MANUAL</td>\n",
       "      <td>Coupe</td>\n",
       "      <td>26</td>\n",
       "      <td>19</td>\n",
       "      <td>46135</td>\n",
       "    </tr>\n",
       "    <tr>\n",
       "      <th>1</th>\n",
       "      <td>BMW</td>\n",
       "      <td>1 Series</td>\n",
       "      <td>2011</td>\n",
       "      <td>300.0</td>\n",
       "      <td>6.0</td>\n",
       "      <td>MANUAL</td>\n",
       "      <td>Convertible</td>\n",
       "      <td>28</td>\n",
       "      <td>19</td>\n",
       "      <td>40650</td>\n",
       "    </tr>\n",
       "    <tr>\n",
       "      <th>2</th>\n",
       "      <td>BMW</td>\n",
       "      <td>1 Series</td>\n",
       "      <td>2011</td>\n",
       "      <td>300.0</td>\n",
       "      <td>6.0</td>\n",
       "      <td>MANUAL</td>\n",
       "      <td>Coupe</td>\n",
       "      <td>28</td>\n",
       "      <td>20</td>\n",
       "      <td>36350</td>\n",
       "    </tr>\n",
       "    <tr>\n",
       "      <th>3</th>\n",
       "      <td>BMW</td>\n",
       "      <td>1 Series</td>\n",
       "      <td>2011</td>\n",
       "      <td>230.0</td>\n",
       "      <td>6.0</td>\n",
       "      <td>MANUAL</td>\n",
       "      <td>Coupe</td>\n",
       "      <td>28</td>\n",
       "      <td>18</td>\n",
       "      <td>29450</td>\n",
       "    </tr>\n",
       "    <tr>\n",
       "      <th>4</th>\n",
       "      <td>BMW</td>\n",
       "      <td>1 Series</td>\n",
       "      <td>2011</td>\n",
       "      <td>230.0</td>\n",
       "      <td>6.0</td>\n",
       "      <td>MANUAL</td>\n",
       "      <td>Convertible</td>\n",
       "      <td>28</td>\n",
       "      <td>18</td>\n",
       "      <td>34500</td>\n",
       "    </tr>\n",
       "  </tbody>\n",
       "</table>\n",
       "</div>"
      ],
      "text/plain": [
       "  make       model  year  engine_hp  engine_cylinders transmission_type  \\\n",
       "0  BMW  1 Series M  2011      335.0               6.0            MANUAL   \n",
       "1  BMW    1 Series  2011      300.0               6.0            MANUAL   \n",
       "2  BMW    1 Series  2011      300.0               6.0            MANUAL   \n",
       "3  BMW    1 Series  2011      230.0               6.0            MANUAL   \n",
       "4  BMW    1 Series  2011      230.0               6.0            MANUAL   \n",
       "\n",
       "  vehicle_style  highway_mpg  city_mpg  price  \n",
       "0         Coupe           26        19  46135  \n",
       "1   Convertible           28        19  40650  \n",
       "2         Coupe           28        20  36350  \n",
       "3         Coupe           28        18  29450  \n",
       "4   Convertible           28        18  34500  "
      ]
     },
     "execution_count": 43,
     "metadata": {},
     "output_type": "execute_result"
    }
   ],
   "source": [
    "df.head()"
   ]
  },
  {
   "cell_type": "code",
   "execution_count": 132,
   "id": "0f39c1ba",
   "metadata": {},
   "outputs": [
    {
     "data": {
      "text/plain": [
       "['make',\n",
       " 'model',\n",
       " 'year',\n",
       " 'engine_hp',\n",
       " 'engine_cylinders',\n",
       " 'transmission_type',\n",
       " 'vehicle_style',\n",
       " 'highway_mpg',\n",
       " 'city_mpg',\n",
       " 'price']"
      ]
     },
     "execution_count": 132,
     "metadata": {},
     "output_type": "execute_result"
    }
   ],
   "source": [
    "f = list(df.columns)\n",
    "f"
   ]
  },
  {
   "cell_type": "markdown",
   "id": "3fcf1175",
   "metadata": {},
   "source": [
    "### Question 1\n",
    "What is the most frequent observation (mode) for the column transmission_type?\n",
    "\n",
    "* `AUTOMATIC` (*)\n",
    "* `MANUAL`\n",
    "* `AUTOMATED_MANUAL`\n",
    "* `DIRECT_DRIVE`"
   ]
  },
  {
   "cell_type": "code",
   "execution_count": 44,
   "id": "7a040ba9",
   "metadata": {},
   "outputs": [
    {
     "data": {
      "text/plain": [
       "AUTOMATIC           8266\n",
       "MANUAL              2935\n",
       "AUTOMATED_MANUAL     626\n",
       "DIRECT_DRIVE          68\n",
       "UNKNOWN               19\n",
       "Name: transmission_type, dtype: int64"
      ]
     },
     "execution_count": 44,
     "metadata": {},
     "output_type": "execute_result"
    }
   ],
   "source": [
    "df.transmission_type.value_counts()"
   ]
  },
  {
   "cell_type": "markdown",
   "id": "49da6b0b",
   "metadata": {},
   "source": [
    "### Question 2\n",
    "Create the correlation matrix for the numerical features of your dataset. In a correlation matrix, you compute the correlation coefficient between every pair of features in the dataset.\n",
    "\n",
    "What are the two features that have the biggest correlation in this dataset?\n",
    "\n",
    "* `engine_hp` and `year`\n",
    "* `engine_hp` and `engine_cylinders`\n",
    "* `highway_mpg` and `engine_cylinders`\n",
    "* `highway_mpg` and `city_mpg` (*)"
   ]
  },
  {
   "cell_type": "code",
   "execution_count": 45,
   "id": "53aadc36",
   "metadata": {},
   "outputs": [],
   "source": [
    "num_features = ['year', 'engine_hp', 'engine_cylinders', 'highway_mpg', 'city_mpg']"
   ]
  },
  {
   "cell_type": "code",
   "execution_count": 48,
   "id": "17c186e4",
   "metadata": {},
   "outputs": [
    {
     "name": "stdout",
     "output_type": "stream",
     "text": [
      "['year', 'engine_hp', 'engine_cylinders', 'highway_mpg', 'city_mpg', 'price']\n"
     ]
    }
   ],
   "source": [
    "# automaticly select numeric features\n",
    "nf = list(df.dtypes[df.dtypes !='object'].index)\n",
    "print(nf)"
   ]
  },
  {
   "cell_type": "code",
   "execution_count": 49,
   "id": "4b8272d6",
   "metadata": {},
   "outputs": [
    {
     "data": {
      "image/png": "[encoded data removed]",
      "text/plain": [
       "<Figure size 1000x600 with 2 Axes>"
      ]
     },
     "metadata": {},
     "output_type": "display_data"
    }
   ],
   "source": [
    "df_num = pd.DataFrame(df,columns=num_features)\n",
    "fig, ax = plt.subplots(figsize=(10, 6))\n",
    "corrMatrix = df.corr()\n",
    "sns.heatmap(corrMatrix, annot=True)\n",
    "plt.show()"
   ]
  },
  {
   "cell_type": "markdown",
   "id": "02348cb3",
   "metadata": {},
   "source": [
    "### Make price binary\n",
    "* Now we need to turn the `price` variable from numeric into a binary format.\n",
    "* Let's create a variable `above_average` which is `1` if the `price` is above its mean value and `0` otherwise."
   ]
  },
  {
   "cell_type": "code",
   "execution_count": 50,
   "id": "62f57bb6",
   "metadata": {},
   "outputs": [
    {
     "data": {
      "text/plain": [
       "40594.737032063116"
      ]
     },
     "execution_count": 50,
     "metadata": {},
     "output_type": "execute_result"
    }
   ],
   "source": [
    "price_mean = df.price.mean()\n",
    "price_mean"
   ]
  },
  {
   "cell_type": "code",
   "execution_count": 51,
   "id": "f26e6920",
   "metadata": {},
   "outputs": [],
   "source": [
    "above_average = (df.price > price_mean).astype(int)"
   ]
  },
  {
   "cell_type": "code",
   "execution_count": 53,
   "id": "276e838e",
   "metadata": {},
   "outputs": [],
   "source": [
    "df.price = above_average"
   ]
  },
  {
   "cell_type": "code",
   "execution_count": 54,
   "id": "f00c01b3",
   "metadata": {},
   "outputs": [
    {
     "data": {
      "text/html": [
       "<div>\n",
       "<style scoped>\n",
       "    .dataframe tbody tr th:only-of-type {\n",
       "        vertical-align: middle;\n",
       "    }\n",
       "\n",
       "    .dataframe tbody tr th {\n",
       "        vertical-align: top;\n",
       "    }\n",
       "\n",
       "    .dataframe thead th {\n",
       "        text-align: right;\n",
       "    }\n",
       "</style>\n",
       "<table border=\"1\" class=\"dataframe\">\n",
       "  <thead>\n",
       "    <tr style=\"text-align: right;\">\n",
       "      <th></th>\n",
       "      <th>make</th>\n",
       "      <th>model</th>\n",
       "      <th>year</th>\n",
       "      <th>engine_hp</th>\n",
       "      <th>engine_cylinders</th>\n",
       "      <th>transmission_type</th>\n",
       "      <th>vehicle_style</th>\n",
       "      <th>highway_mpg</th>\n",
       "      <th>city_mpg</th>\n",
       "      <th>price</th>\n",
       "    </tr>\n",
       "  </thead>\n",
       "  <tbody>\n",
       "    <tr>\n",
       "      <th>0</th>\n",
       "      <td>BMW</td>\n",
       "      <td>1 Series M</td>\n",
       "      <td>2011</td>\n",
       "      <td>335.0</td>\n",
       "      <td>6.0</td>\n",
       "      <td>MANUAL</td>\n",
       "      <td>Coupe</td>\n",
       "      <td>26</td>\n",
       "      <td>19</td>\n",
       "      <td>1</td>\n",
       "    </tr>\n",
       "    <tr>\n",
       "      <th>1</th>\n",
       "      <td>BMW</td>\n",
       "      <td>1 Series</td>\n",
       "      <td>2011</td>\n",
       "      <td>300.0</td>\n",
       "      <td>6.0</td>\n",
       "      <td>MANUAL</td>\n",
       "      <td>Convertible</td>\n",
       "      <td>28</td>\n",
       "      <td>19</td>\n",
       "      <td>1</td>\n",
       "    </tr>\n",
       "    <tr>\n",
       "      <th>2</th>\n",
       "      <td>BMW</td>\n",
       "      <td>1 Series</td>\n",
       "      <td>2011</td>\n",
       "      <td>300.0</td>\n",
       "      <td>6.0</td>\n",
       "      <td>MANUAL</td>\n",
       "      <td>Coupe</td>\n",
       "      <td>28</td>\n",
       "      <td>20</td>\n",
       "      <td>0</td>\n",
       "    </tr>\n",
       "    <tr>\n",
       "      <th>3</th>\n",
       "      <td>BMW</td>\n",
       "      <td>1 Series</td>\n",
       "      <td>2011</td>\n",
       "      <td>230.0</td>\n",
       "      <td>6.0</td>\n",
       "      <td>MANUAL</td>\n",
       "      <td>Coupe</td>\n",
       "      <td>28</td>\n",
       "      <td>18</td>\n",
       "      <td>0</td>\n",
       "    </tr>\n",
       "    <tr>\n",
       "      <th>4</th>\n",
       "      <td>BMW</td>\n",
       "      <td>1 Series</td>\n",
       "      <td>2011</td>\n",
       "      <td>230.0</td>\n",
       "      <td>6.0</td>\n",
       "      <td>MANUAL</td>\n",
       "      <td>Convertible</td>\n",
       "      <td>28</td>\n",
       "      <td>18</td>\n",
       "      <td>0</td>\n",
       "    </tr>\n",
       "  </tbody>\n",
       "</table>\n",
       "</div>"
      ],
      "text/plain": [
       "  make       model  year  engine_hp  engine_cylinders transmission_type  \\\n",
       "0  BMW  1 Series M  2011      335.0               6.0            MANUAL   \n",
       "1  BMW    1 Series  2011      300.0               6.0            MANUAL   \n",
       "2  BMW    1 Series  2011      300.0               6.0            MANUAL   \n",
       "3  BMW    1 Series  2011      230.0               6.0            MANUAL   \n",
       "4  BMW    1 Series  2011      230.0               6.0            MANUAL   \n",
       "\n",
       "  vehicle_style  highway_mpg  city_mpg  price  \n",
       "0         Coupe           26        19      1  \n",
       "1   Convertible           28        19      1  \n",
       "2         Coupe           28        20      0  \n",
       "3         Coupe           28        18      0  \n",
       "4   Convertible           28        18      0  "
      ]
     },
     "execution_count": 54,
     "metadata": {},
     "output_type": "execute_result"
    }
   ],
   "source": [
    "df.head()"
   ]
  },
  {
   "cell_type": "markdown",
   "id": "8ca83e56",
   "metadata": {},
   "source": [
    "### Split the data\n",
    "* Split your data in train/val/test sets with 60%/20%/20% distribution.\n",
    "* Use Scikit-Learn for that (the `train_test_split` function) and set the seed to `42`.\n",
    "* Make sure that the target value (`price`) is not in your dataframe."
   ]
  },
  {
   "cell_type": "code",
   "execution_count": 57,
   "id": "111792eb",
   "metadata": {},
   "outputs": [],
   "source": [
    "from sklearn.model_selection import train_test_split"
   ]
  },
  {
   "cell_type": "code",
   "execution_count": 61,
   "id": "3931916d",
   "metadata": {},
   "outputs": [],
   "source": [
    "df_full_train, df_test = train_test_split(df, test_size=0.2, random_state=42)\n",
    "df_train, df_val = train_test_split(df_full_train, test_size=0.25, random_state=42)\n",
    "\n",
    "df_train = df_train.reset_index(drop=True)\n",
    "df_val = df_val.reset_index(drop=True)\n",
    "df_test = df_test.reset_index(drop=True)\n",
    "\n",
    "y_train = df_train.price\n",
    "y_val = df_val.price\n",
    "y_test = df_test.price\n",
    "\n",
    "del df_train['price']\n",
    "del df_val['price']\n",
    "del df_test['price']"
   ]
  },
  {
   "cell_type": "code",
   "execution_count": 62,
   "id": "5056f881",
   "metadata": {},
   "outputs": [
    {
     "data": {
      "text/html": [
       "<div>\n",
       "<style scoped>\n",
       "    .dataframe tbody tr th:only-of-type {\n",
       "        vertical-align: middle;\n",
       "    }\n",
       "\n",
       "    .dataframe tbody tr th {\n",
       "        vertical-align: top;\n",
       "    }\n",
       "\n",
       "    .dataframe thead th {\n",
       "        text-align: right;\n",
       "    }\n",
       "</style>\n",
       "<table border=\"1\" class=\"dataframe\">\n",
       "  <thead>\n",
       "    <tr style=\"text-align: right;\">\n",
       "      <th></th>\n",
       "      <th>make</th>\n",
       "      <th>model</th>\n",
       "      <th>year</th>\n",
       "      <th>engine_hp</th>\n",
       "      <th>engine_cylinders</th>\n",
       "      <th>transmission_type</th>\n",
       "      <th>vehicle_style</th>\n",
       "      <th>highway_mpg</th>\n",
       "      <th>city_mpg</th>\n",
       "    </tr>\n",
       "  </thead>\n",
       "  <tbody>\n",
       "    <tr>\n",
       "      <th>0</th>\n",
       "      <td>Mitsubishi</td>\n",
       "      <td>Endeavor</td>\n",
       "      <td>2011</td>\n",
       "      <td>225.0</td>\n",
       "      <td>6.0</td>\n",
       "      <td>AUTOMATIC</td>\n",
       "      <td>4dr SUV</td>\n",
       "      <td>19</td>\n",
       "      <td>15</td>\n",
       "    </tr>\n",
       "    <tr>\n",
       "      <th>1</th>\n",
       "      <td>Kia</td>\n",
       "      <td>Borrego</td>\n",
       "      <td>2009</td>\n",
       "      <td>276.0</td>\n",
       "      <td>6.0</td>\n",
       "      <td>AUTOMATIC</td>\n",
       "      <td>4dr SUV</td>\n",
       "      <td>21</td>\n",
       "      <td>17</td>\n",
       "    </tr>\n",
       "    <tr>\n",
       "      <th>2</th>\n",
       "      <td>Lamborghini</td>\n",
       "      <td>Gallardo</td>\n",
       "      <td>2012</td>\n",
       "      <td>570.0</td>\n",
       "      <td>10.0</td>\n",
       "      <td>MANUAL</td>\n",
       "      <td>Convertible</td>\n",
       "      <td>20</td>\n",
       "      <td>12</td>\n",
       "    </tr>\n",
       "    <tr>\n",
       "      <th>3</th>\n",
       "      <td>Chevrolet</td>\n",
       "      <td>Colorado</td>\n",
       "      <td>2016</td>\n",
       "      <td>200.0</td>\n",
       "      <td>4.0</td>\n",
       "      <td>AUTOMATIC</td>\n",
       "      <td>Crew Cab Pickup</td>\n",
       "      <td>27</td>\n",
       "      <td>20</td>\n",
       "    </tr>\n",
       "    <tr>\n",
       "      <th>4</th>\n",
       "      <td>Pontiac</td>\n",
       "      <td>Vibe</td>\n",
       "      <td>2009</td>\n",
       "      <td>158.0</td>\n",
       "      <td>4.0</td>\n",
       "      <td>AUTOMATIC</td>\n",
       "      <td>4dr Hatchback</td>\n",
       "      <td>26</td>\n",
       "      <td>20</td>\n",
       "    </tr>\n",
       "  </tbody>\n",
       "</table>\n",
       "</div>"
      ],
      "text/plain": [
       "          make     model  year  engine_hp  engine_cylinders transmission_type  \\\n",
       "0   Mitsubishi  Endeavor  2011      225.0               6.0         AUTOMATIC   \n",
       "1          Kia   Borrego  2009      276.0               6.0         AUTOMATIC   \n",
       "2  Lamborghini  Gallardo  2012      570.0              10.0            MANUAL   \n",
       "3    Chevrolet  Colorado  2016      200.0               4.0         AUTOMATIC   \n",
       "4      Pontiac      Vibe  2009      158.0               4.0         AUTOMATIC   \n",
       "\n",
       "     vehicle_style  highway_mpg  city_mpg  \n",
       "0          4dr SUV           19        15  \n",
       "1          4dr SUV           21        17  \n",
       "2      Convertible           20        12  \n",
       "3  Crew Cab Pickup           27        20  \n",
       "4    4dr Hatchback           26        20  "
      ]
     },
     "execution_count": 62,
     "metadata": {},
     "output_type": "execute_result"
    }
   ],
   "source": [
    "df_train.head()"
   ]
  },
  {
   "cell_type": "code",
   "execution_count": 63,
   "id": "26e92fdb",
   "metadata": {},
   "outputs": [
    {
     "data": {
      "text/plain": [
       "0    0\n",
       "1    0\n",
       "2    1\n",
       "3    0\n",
       "4    0\n",
       "Name: price, dtype: int64"
      ]
     },
     "execution_count": 63,
     "metadata": {},
     "output_type": "execute_result"
    }
   ],
   "source": [
    "y_train[:5]"
   ]
  },
  {
   "cell_type": "markdown",
   "id": "934bf96a",
   "metadata": {},
   "source": [
    "### Question 3\n",
    "* Calculate the mutual information score between above_average and other categorical variables in our dataset. Use the training set only.\n",
    "* Round the scores to 2 decimals using round(score, 2).\n",
    "Which of these variables has the lowest mutual information score?\n",
    "\n",
    "* `make`\n",
    "* `model`\n",
    "* `transmission_type` (*)\n",
    "* `vehicle_style`"
   ]
  },
  {
   "cell_type": "code",
   "execution_count": 66,
   "id": "bd187db9",
   "metadata": {},
   "outputs": [],
   "source": [
    "from sklearn.metrics import mutual_info_score"
   ]
  },
  {
   "cell_type": "code",
   "execution_count": 67,
   "id": "5b65919f",
   "metadata": {},
   "outputs": [
    {
     "data": {
      "text/plain": [
       "['make', 'model', 'transmission_type', 'vehicle_style']"
      ]
     },
     "execution_count": 67,
     "metadata": {},
     "output_type": "execute_result"
    }
   ],
   "source": [
    "cat_features = list(df_train.dtypes[df_train.dtypes =='object'].index)\n",
    "cat_features"
   ]
  },
  {
   "cell_type": "code",
   "execution_count": 71,
   "id": "d887d543",
   "metadata": {},
   "outputs": [
    {
     "name": "stdout",
     "output_type": "stream",
     "text": [
      "make\n",
      "0.24\n",
      "----\n",
      "\n",
      "model\n",
      "0.46\n",
      "----\n",
      "\n",
      "transmission_type\n",
      "0.02\n",
      "----\n",
      "\n",
      "vehicle_style\n",
      "0.08\n",
      "----\n",
      "\n"
     ]
    }
   ],
   "source": [
    "for c in cat_features:\n",
    "    print(c)\n",
    "    print(round(mutual_info_score(df_train[c], y_train), 2))\n",
    "    print('----')\n",
    "    print()"
   ]
  },
  {
   "cell_type": "code",
   "execution_count": 77,
   "id": "7bb02566",
   "metadata": {},
   "outputs": [],
   "source": [
    "def mutual_info_price(series):\n",
    "    return round(mutual_info_score(series, y_train), 2)"
   ]
  },
  {
   "cell_type": "code",
   "execution_count": 78,
   "id": "ef1a2b3c",
   "metadata": {},
   "outputs": [
    {
     "data": {
      "text/plain": [
       "transmission_type    0.02\n",
       "vehicle_style        0.08\n",
       "make                 0.24\n",
       "model                0.46\n",
       "dtype: float64"
      ]
     },
     "execution_count": 78,
     "metadata": {},
     "output_type": "execute_result"
    }
   ],
   "source": [
    "mut_inf = df_train[cat_features].apply(mutual_info_price)\n",
    "mut_inf.sort_values(ascending=True)"
   ]
  },
  {
   "cell_type": "markdown",
   "id": "303aac13",
   "metadata": {},
   "source": [
    "### Question 4\n",
    "* Now let's train a logistic regression.\n",
    "* Remember that we have several categorical variables in the dataset. Include them using one-hot encoding.\n",
    "* Fit the model on the training dataset.\n",
    "** To make sure the results are reproducible across different versions of Scikit-Learn, fit the model with these parameters:\n",
    "** `model = LogisticRegression(solver='liblinear', C=10, max_iter=1000, random_state=42)`\n",
    "* Calculate the accuracy on the validation dataset and round it to 2 decimal digits.\n",
    "What accuracy did you get?\n",
    "\n",
    "* 0.60\n",
    "* 0.72\n",
    "* 0.84\n",
    "* 0.95 (*)"
   ]
  },
  {
   "cell_type": "code",
   "execution_count": 84,
   "id": "5b768284",
   "metadata": {},
   "outputs": [],
   "source": [
    "from sklearn.feature_extraction import DictVectorizer"
   ]
  },
  {
   "cell_type": "code",
   "execution_count": 81,
   "id": "a9001e45",
   "metadata": {},
   "outputs": [],
   "source": [
    "train_dicts = df_train[cat_features + num_features].to_dict(orient='records')"
   ]
  },
  {
   "cell_type": "code",
   "execution_count": 82,
   "id": "8a5023bf",
   "metadata": {},
   "outputs": [
    {
     "data": {
      "text/plain": [
       "{'make': 'Mitsubishi',\n",
       " 'model': 'Endeavor',\n",
       " 'transmission_type': 'AUTOMATIC',\n",
       " 'vehicle_style': '4dr SUV',\n",
       " 'year': 2011,\n",
       " 'engine_hp': 225.0,\n",
       " 'engine_cylinders': 6.0,\n",
       " 'highway_mpg': 19,\n",
       " 'city_mpg': 15}"
      ]
     },
     "execution_count": 82,
     "metadata": {},
     "output_type": "execute_result"
    }
   ],
   "source": [
    "train_dicts[0]"
   ]
  },
  {
   "cell_type": "code",
   "execution_count": 85,
   "id": "881ff6d7",
   "metadata": {},
   "outputs": [],
   "source": [
    "dv = DictVectorizer(sparse=False)"
   ]
  },
  {
   "cell_type": "code",
   "execution_count": 86,
   "id": "6fff7345",
   "metadata": {},
   "outputs": [
    {
     "data": {
      "text/plain": [
       "DictVectorizer(sparse=False)"
      ]
     },
     "execution_count": 86,
     "metadata": {},
     "output_type": "execute_result"
    }
   ],
   "source": [
    "dv.fit(train_dicts)"
   ]
  },
  {
   "cell_type": "code",
   "execution_count": 115,
   "id": "9a2beb4c",
   "metadata": {},
   "outputs": [
    {
     "data": {
      "text/plain": [
       "array(['city_mpg', 'engine_cylinders', 'engine_hp', 'highway_mpg',\n",
       "       'make=Acura', 'make=Alfa Romeo', 'make=Aston Martin', 'make=Audi',\n",
       "       'make=BMW', 'make=Bentley', 'make=Bugatti', 'make=Buick',\n",
       "       'make=Cadillac', 'make=Chevrolet', 'make=Chrysler', 'make=Dodge',\n",
       "       'make=FIAT', 'make=Ferrari', 'make=Ford', 'make=GMC',\n",
       "       'make=Genesis', 'make=HUMMER', 'make=Honda', 'make=Hyundai',\n",
       "       'make=Infiniti', 'make=Kia', 'make=Lamborghini', 'make=Land Rover',\n",
       "       'make=Lexus', 'make=Lincoln', 'make=Lotus', 'make=Maserati',\n",
       "       'make=Maybach', 'make=Mazda', 'make=McLaren', 'make=Mercedes-Benz',\n",
       "       'make=Mitsubishi', 'make=Nissan', 'make=Oldsmobile',\n",
       "       'make=Plymouth', 'make=Pontiac', 'make=Porsche',\n",
       "       'make=Rolls-Royce', 'make=Saab', 'make=Scion', 'make=Spyker',\n",
       "       'make=Subaru', 'make=Suzuki', 'make=Tesla', 'make=Toyota',\n",
       "       'make=Volkswagen', 'make=Volvo', 'model=1 Series', 'model=100',\n",
       "       'model=124 Spider', 'model=190-Class', 'model=2', 'model=2 Series',\n",
       "       'model=200', 'model=200SX', 'model=240', 'model=240SX', 'model=3',\n",
       "       'model=3 Series', 'model=3 Series Gran Turismo', 'model=300',\n",
       "       'model=300-Class', 'model=3000GT', 'model=300M', 'model=300ZX',\n",
       "       'model=323', 'model=350-Class', 'model=350Z', 'model=360',\n",
       "       'model=370Z', 'model=4 Series', 'model=4 Series Gran Coupe',\n",
       "       'model=400-Class', 'model=420-Class', 'model=456M',\n",
       "       'model=458 Italia', 'model=4C', 'model=4Runner', 'model=5',\n",
       "       'model=5 Series', 'model=5 Series Gran Turismo', 'model=500',\n",
       "       'model=500-Class', 'model=500L', 'model=500X', 'model=500e',\n",
       "       'model=550', 'model=560-Class', 'model=57', 'model=570S',\n",
       "       'model=575M', 'model=599', 'model=6', 'model=6 Series',\n",
       "       'model=6 Series Gran Coupe', 'model=600-Class', 'model=6000',\n",
       "       'model=612 Scaglietti', 'model=62', 'model=626', 'model=7 Series',\n",
       "       'model=740', 'model=760', 'model=780', 'model=8 Series',\n",
       "       'model=80', 'model=850', 'model=9-2X', 'model=9-3',\n",
       "       'model=9-3 Griffin', 'model=9-4X', 'model=9-5', 'model=9-7X',\n",
       "       'model=90', 'model=900', 'model=9000', 'model=911', 'model=928',\n",
       "       'model=929', 'model=940', 'model=944', 'model=960', 'model=968',\n",
       "       'model=A3', 'model=A4', 'model=A5', 'model=A6', 'model=A7',\n",
       "       'model=A8', 'model=ALPINA B6 Gran Coupe', 'model=ALPINA B7',\n",
       "       'model=AMG GT', 'model=ATS', 'model=ATS Coupe', 'model=Acadia',\n",
       "       'model=Acadia Limited', 'model=Accent', 'model=Acclaim',\n",
       "       'model=Accord', 'model=Accord Crosstour', 'model=Accord Hybrid',\n",
       "       'model=Accord Plug-In Hybrid', 'model=Achieva',\n",
       "       'model=ActiveHybrid 5', 'model=ActiveHybrid 7',\n",
       "       'model=ActiveHybrid X6', 'model=Aerio', 'model=Aerostar',\n",
       "       'model=Alero', 'model=Allante', 'model=Altima',\n",
       "       'model=Altima Hybrid', 'model=Amanti', 'model=Armada',\n",
       "       'model=Arnage', 'model=Aspen', 'model=Aspire', 'model=Astro',\n",
       "       'model=Astro Cargo', 'model=Aurora', 'model=Avalanche',\n",
       "       'model=Avalon', 'model=Avalon Hybrid', 'model=Avenger',\n",
       "       'model=Aventador', 'model=Aveo', 'model=Aviator', 'model=Axxess',\n",
       "       'model=Azera', 'model=Aztek', 'model=Azure', 'model=Azure T',\n",
       "       'model=B-Class Electric Drive', 'model=B-Series',\n",
       "       'model=B-Series Pickup', 'model=B-Series Truck',\n",
       "       'model=B9 Tribeca', 'model=BRZ', 'model=Baja', 'model=Beetle',\n",
       "       'model=Beetle Convertible', 'model=Beretta',\n",
       "       'model=Black Diamond Avalanche', 'model=Blackwood', 'model=Blazer',\n",
       "       'model=Bonneville', 'model=Borrego', 'model=Boxster',\n",
       "       'model=Bravada', 'model=Breeze', 'model=Bronco', 'model=Bronco II',\n",
       "       'model=Brooklands', 'model=Brougham', 'model=C-Class',\n",
       "       'model=C-Max Hybrid', 'model=C/K 1500 Series',\n",
       "       'model=C/K 2500 Series', 'model=C30', 'model=C43 AMG', 'model=C70',\n",
       "       'model=C8', 'model=CC', 'model=CL', 'model=CL-Class',\n",
       "       'model=CLA-Class', 'model=CLK-Class', 'model=CLS-Class',\n",
       "       'model=CR-V', 'model=CR-Z', 'model=CT6', 'model=CTS',\n",
       "       'model=CTS Coupe', 'model=CTS Wagon', 'model=CTS-V',\n",
       "       'model=CTS-V Coupe', 'model=CTS-V Wagon', 'model=CX-3',\n",
       "       'model=CX-5', 'model=CX-7', 'model=CX-9', 'model=Cabrio',\n",
       "       'model=Cabriolet', 'model=Cadenza', 'model=Caliber',\n",
       "       'model=Camaro', 'model=Camry', 'model=Camry Hybrid',\n",
       "       'model=Camry Solara', 'model=Canyon', 'model=Caprice',\n",
       "       'model=Captiva Sport', 'model=Caravan', 'model=Carrera GT',\n",
       "       'model=Cascada', 'model=Catera', 'model=Cavalier', 'model=Cayenne',\n",
       "       'model=Cayman', 'model=Cayman S', 'model=Celebrity',\n",
       "       'model=Celica', 'model=Century', 'model=Challenger',\n",
       "       'model=Charger', 'model=Chevy Van', 'model=City Express',\n",
       "       'model=Civic', 'model=Civic CRX', 'model=Civic del Sol',\n",
       "       'model=Classic', 'model=Cobalt', 'model=Colorado', 'model=Colt',\n",
       "       'model=Concorde', 'model=Continental',\n",
       "       'model=Continental Flying Spur',\n",
       "       'model=Continental Flying Spur Speed', 'model=Continental GT',\n",
       "       'model=Continental GT Speed',\n",
       "       'model=Continental GT Speed Convertible', 'model=Continental GTC',\n",
       "       'model=Continental GTC Speed', 'model=Continental Supersports',\n",
       "       'model=Continental Supersports Convertible', 'model=Contour',\n",
       "       'model=Corniche', 'model=Corolla', 'model=Corolla iM',\n",
       "       'model=Corrado', 'model=Corvette', 'model=Corvette Stingray',\n",
       "       'model=Coupe', 'model=Cressida', 'model=Crossfire',\n",
       "       'model=Crosstour', 'model=Crosstrek', 'model=Crown Victoria',\n",
       "       'model=Cruze', 'model=Cruze Limited', 'model=Cube',\n",
       "       'model=Custom Cruiser', 'model=Cutlass', 'model=Cutlass Calais',\n",
       "       'model=Cutlass Ciera', 'model=Cutlass Supreme', 'model=DB9',\n",
       "       'model=DB9 GT', 'model=DBS', 'model=DTS', 'model=Dakota',\n",
       "       'model=Dart', 'model=Dawn', 'model=Daytona', 'model=DeVille',\n",
       "       'model=Defender', 'model=Diablo', 'model=Diamante',\n",
       "       'model=Discovery', 'model=Discovery Series II',\n",
       "       'model=Discovery Sport', 'model=Durango', 'model=Dynasty',\n",
       "       'model=E-150', 'model=E-250', 'model=E-Class',\n",
       "       'model=E-Series Van', 'model=E-Series Wagon', 'model=E55 AMG',\n",
       "       'model=ECHO', 'model=ES 250', 'model=ES 300', 'model=ES 300h',\n",
       "       'model=EX', 'model=EX35', 'model=Eclipse', 'model=Eclipse Spyder',\n",
       "       'model=Edge', 'model=Eighty-Eight', 'model=Eighty-Eight Royale',\n",
       "       'model=Elantra', 'model=Elantra Coupe', 'model=Elantra GT',\n",
       "       'model=Elantra Touring', 'model=Eldorado', 'model=Electra',\n",
       "       'model=Element', 'model=Elise', 'model=Enclave', 'model=Encore',\n",
       "       'model=Endeavor', 'model=Entourage', 'model=Envision',\n",
       "       'model=Envoy', 'model=Envoy XL', 'model=Envoy XUV', 'model=Eos',\n",
       "       'model=Equator', 'model=Equinox', 'model=Equus', 'model=Escalade',\n",
       "       'model=Escalade ESV', 'model=Escalade EXT',\n",
       "       'model=Escalade Hybrid', 'model=Escape', 'model=Escape Hybrid',\n",
       "       'model=Escort', 'model=Esprit', 'model=Esteem', 'model=EuroVan',\n",
       "       'model=Evora', 'model=Excel', 'model=Exige', 'model=Expedition',\n",
       "       'model=Explorer', 'model=Explorer Sport',\n",
       "       'model=Explorer Sport Trac', 'model=Expo', 'model=Express',\n",
       "       'model=Express Cargo', 'model=F-150', 'model=F-150 Heritage',\n",
       "       'model=F-150 SVT Lightning', 'model=F-250', 'model=F12 Berlinetta',\n",
       "       'model=F430', 'model=FF', 'model=FJ Cruiser', 'model=FR-S',\n",
       "       'model=FX', 'model=FX35', 'model=FX45', 'model=FX50',\n",
       "       'model=Festiva', 'model=Fiesta', 'model=Firebird', 'model=Fit',\n",
       "       'model=Five Hundred', 'model=Fleetwood', 'model=Flex',\n",
       "       'model=Flying Spur', 'model=Focus', 'model=Focus ST',\n",
       "       'model=Forenza', 'model=Forester', 'model=Forte', 'model=Fox',\n",
       "       'model=Freelander', 'model=Freestar', 'model=Freestyle',\n",
       "       'model=Frontier', 'model=Fusion', 'model=Fusion Hybrid',\n",
       "       'model=G Convertible', 'model=G Coupe', 'model=G Sedan',\n",
       "       'model=G-Class', 'model=G20', 'model=G3', 'model=G35', 'model=G37',\n",
       "       'model=G37 Convertible', 'model=G37 Coupe', 'model=G37 Sedan',\n",
       "       'model=G5', 'model=G6', 'model=G8', 'model=G80', 'model=GL-Class',\n",
       "       'model=GLA-Class', 'model=GLC-Class', 'model=GLE-Class',\n",
       "       'model=GLE-Class Coupe', 'model=GLI', 'model=GLK-Class',\n",
       "       'model=GLS-Class', 'model=GS 200t', 'model=GS 300', 'model=GS 350',\n",
       "       'model=GS 400', 'model=GS 430', 'model=GS 450h', 'model=GS 460',\n",
       "       'model=GT', 'model=GT-R', 'model=GTI', 'model=GTO', 'model=GX 460',\n",
       "       'model=GX 470', 'model=Galant', 'model=Gallardo', 'model=Genesis',\n",
       "       'model=Genesis Coupe', 'model=Ghibli', 'model=Ghost',\n",
       "       'model=Ghost Series II', 'model=Golf', 'model=Golf Alltrack',\n",
       "       'model=Golf GTI', 'model=Golf R', 'model=Golf SportWagen',\n",
       "       'model=GranSport', 'model=GranTurismo',\n",
       "       'model=GranTurismo Convertible', 'model=Grand Am',\n",
       "       'model=Grand Caravan', 'model=Grand Prix', 'model=Grand Vitara',\n",
       "       'model=Grand Voyager', 'model=H3', 'model=H3T', 'model=HHR',\n",
       "       'model=HR-V', 'model=HS 250h', 'model=Highlander',\n",
       "       'model=Highlander Hybrid', 'model=Horizon', 'model=Huracan',\n",
       "       'model=I30', 'model=I35', 'model=ILX', 'model=ILX Hybrid',\n",
       "       'model=IS 200t', 'model=IS 250', 'model=IS 250 C', 'model=IS 300',\n",
       "       'model=IS 350', 'model=IS 350 C', 'model=IS F', 'model=Impala',\n",
       "       'model=Impala Limited', 'model=Imperial', 'model=Impreza',\n",
       "       'model=Impreza WRX', 'model=Insight', 'model=Integra',\n",
       "       'model=Intrepid', 'model=Intrigue', 'model=J30', 'model=JX',\n",
       "       'model=Jetta', 'model=Jetta GLI', 'model=Jetta Hybrid',\n",
       "       'model=Jetta SportWagen', 'model=Jimmy', 'model=Journey',\n",
       "       'model=Juke', 'model=Justy', 'model=K900', 'model=Kizashi',\n",
       "       'model=LFA', 'model=LHS', 'model=LR2', 'model=LR3', 'model=LR4',\n",
       "       'model=LS', 'model=LS 400', 'model=LS 430', 'model=LS 460',\n",
       "       'model=LS 600h L', 'model=LSS', 'model=LTD Crown Victoria',\n",
       "       'model=LX 450', 'model=LX 470', 'model=LX 570', 'model=LaCrosse',\n",
       "       'model=Lancer', 'model=Lancer Evolution', 'model=Lancer Sportback',\n",
       "       'model=Land Cruiser', 'model=Laser', 'model=Le Baron',\n",
       "       'model=Le Mans', 'model=LeSabre', 'model=Leaf', 'model=Legacy',\n",
       "       'model=Legend', 'model=Levante', 'model=Loyale', 'model=Lucerne',\n",
       "       'model=Lumina', 'model=Lumina Minivan', 'model=M', 'model=M-Class',\n",
       "       'model=M2', 'model=M3', 'model=M30', 'model=M35', 'model=M37',\n",
       "       'model=M4', 'model=M45', 'model=M5', 'model=M56', 'model=M6',\n",
       "       'model=M6 Gran Coupe', 'model=MDX', 'model=MKC', 'model=MKS',\n",
       "       'model=MKT', 'model=MKX', 'model=MKZ', 'model=MKZ Hybrid',\n",
       "       'model=MP4-12C', 'model=MPV', 'model=MR2', 'model=MR2 Spyder',\n",
       "       'model=MX-3', 'model=MX-5 Miata', 'model=MX-6', 'model=Macan',\n",
       "       'model=Magnum', 'model=Malibu', 'model=Malibu Classic',\n",
       "       'model=Malibu Hybrid', 'model=Malibu Limited', 'model=Malibu Maxx',\n",
       "       'model=Mark LT', 'model=Mark VII', 'model=Mark VIII',\n",
       "       'model=Matrix', 'model=Maxima', 'model=Maybach',\n",
       "       'model=Mazdaspeed 3', 'model=Mazdaspeed MX-5 Miata',\n",
       "       'model=Mazdaspeed Protege', 'model=Metris', 'model=Metro',\n",
       "       'model=Mighty Max Pickup', 'model=Millenia', 'model=Mirage',\n",
       "       'model=Mirage G4', 'model=Model S', 'model=Monaco',\n",
       "       'model=Montana', 'model=Montana SV6', 'model=Monte Carlo',\n",
       "       'model=Montero', 'model=Montero Sport', 'model=Mulsanne',\n",
       "       'model=Murano', 'model=Murano CrossCabriolet', 'model=Murcielago',\n",
       "       'model=Mustang', 'model=Mustang SVT Cobra', 'model=NSX',\n",
       "       'model=NV200', 'model=NX', 'model=NX 200t', 'model=NX 300h',\n",
       "       'model=Navajo', 'model=Navigator', 'model=Neon',\n",
       "       'model=New Beetle', 'model=New Yorker', 'model=Ninety-Eight',\n",
       "       'model=Nitro', 'model=Odyssey', 'model=Omni', 'model=Optima',\n",
       "       'model=Optima Hybrid', 'model=Outback', 'model=Outlander',\n",
       "       'model=Outlander Sport', 'model=PT Cruiser', 'model=Pacifica',\n",
       "       'model=Panamera', 'model=Park Avenue', 'model=Paseo',\n",
       "       'model=Passat', 'model=Passport', 'model=Pathfinder',\n",
       "       'model=Phaeton', 'model=Phantom', 'model=Phantom Coupe',\n",
       "       'model=Phantom Drophead Coupe', 'model=Pickup', 'model=Pilot',\n",
       "       'model=Precis', 'model=Prelude', 'model=Previa', 'model=Prius',\n",
       "       'model=Prius Prime', 'model=Prius c', 'model=Prius v',\n",
       "       'model=Prizm', 'model=Probe', 'model=Protege', 'model=Protege5',\n",
       "       'model=Prowler', 'model=Q3', 'model=Q40', 'model=Q45', 'model=Q5',\n",
       "       'model=Q50', 'model=Q60 Convertible', 'model=Q60 Coupe',\n",
       "       'model=Q7', 'model=Q70', 'model=QX', 'model=QX4', 'model=QX50',\n",
       "       'model=QX56', 'model=QX60', 'model=QX70', 'model=QX80',\n",
       "       'model=Quattroporte', 'model=Quest', 'model=R-Class', 'model=R32',\n",
       "       'model=R8', 'model=RAM 150', 'model=RAM 250', 'model=RAV4',\n",
       "       'model=RAV4 EV', 'model=RAV4 Hybrid', 'model=RC 200t',\n",
       "       'model=RC 300', 'model=RC 350', 'model=RDX', 'model=RL',\n",
       "       'model=RLX', 'model=RS 4', 'model=RS 5', 'model=RS 7', 'model=RSX',\n",
       "       'model=RX 300', 'model=RX 330', 'model=RX 350', 'model=RX 400h',\n",
       "       'model=RX 450h', 'model=RX-7', 'model=RX-8', 'model=Rabbit',\n",
       "       'model=Raider', 'model=Rainier', 'model=Rally Wagon',\n",
       "       'model=Ram 50 Pickup', 'model=Ram Cargo', 'model=Ram Pickup 1500',\n",
       "       'model=Ram Van', 'model=Ram Wagon', 'model=Ramcharger',\n",
       "       'model=Range Rover', 'model=Range Rover Evoque',\n",
       "       'model=Range Rover Sport', 'model=Ranger', 'model=Rapide',\n",
       "       'model=Rapide S', 'model=Reatta', 'model=Regal', 'model=Regency',\n",
       "       'model=Rendezvous', 'model=Reno', 'model=Reventon',\n",
       "       'model=Ridgeline', 'model=Rio', 'model=Riviera',\n",
       "       'model=Roadmaster', 'model=Rogue', 'model=Rogue Select',\n",
       "       'model=Rondo', 'model=Routan', 'model=S-10', 'model=S-10 Blazer',\n",
       "       'model=S-15', 'model=S-15 Jimmy', 'model=S-Class', 'model=S2000',\n",
       "       'model=S3', 'model=S4', 'model=S40', 'model=S5', 'model=S6',\n",
       "       'model=S60', 'model=S60 Cross Country', 'model=S7', 'model=S70',\n",
       "       'model=S8', 'model=S80', 'model=S90', 'model=SC 300',\n",
       "       'model=SC 400', 'model=SC 430', 'model=SL-Class',\n",
       "       'model=SLC-Class', 'model=SLK-Class', 'model=SLR McLaren',\n",
       "       'model=SLS AMG', 'model=SLS AMG GT',\n",
       "       'model=SLS AMG GT Final Edition', 'model=SLX', 'model=SQ5',\n",
       "       'model=SRT Viper', 'model=SRX', 'model=STS', 'model=STS-V',\n",
       "       'model=SVX', 'model=SX4', 'model=Safari', 'model=Safari Cargo',\n",
       "       'model=Samurai', 'model=Santa Fe', 'model=Santa Fe Sport',\n",
       "       'model=Savana', 'model=Savana Cargo', 'model=Scoupe',\n",
       "       'model=Sebring', 'model=Sedona', 'model=Sentra', 'model=Sephia',\n",
       "       'model=Sequoia', 'model=Seville', 'model=Shadow',\n",
       "       'model=Shelby GT350', 'model=Shelby GT500', 'model=Sidekick',\n",
       "       'model=Sienna', 'model=Sierra 1500', 'model=Sierra 1500 Classic',\n",
       "       'model=Sierra 1500 Hybrid', 'model=Sierra 1500HD',\n",
       "       'model=Sierra C3', 'model=Sierra Classic 1500', 'model=Sigma',\n",
       "       'model=Silhouette', 'model=Silver Seraph', 'model=Silverado 1500',\n",
       "       'model=Silverado 1500 Classic', 'model=Silverado 1500 Hybrid',\n",
       "       'model=Skylark', 'model=Solstice', 'model=Sonata',\n",
       "       'model=Sonata Hybrid', 'model=Sonic', 'model=Sonoma',\n",
       "       'model=Sorento', 'model=Soul', 'model=Soul EV', 'model=Spark',\n",
       "       'model=Spark EV', 'model=Spectra', 'model=Spirit',\n",
       "       'model=Sportage', 'model=Sportvan', 'model=Spyder', 'model=Stanza',\n",
       "       'model=Stealth', 'model=Stratus', 'model=Suburban',\n",
       "       'model=Sunbird', 'model=Sundance', 'model=Sunfire', 'model=Supra',\n",
       "       'model=Swift', 'model=Syclone', 'model=T100', 'model=TL',\n",
       "       'model=TLX', 'model=TSX', 'model=TSX Sport Wagon', 'model=TT',\n",
       "       'model=TTS', 'model=Tacoma', 'model=Tahoe', 'model=Tahoe Hybrid',\n",
       "       'model=Tahoe Limited/Z71', 'model=Taurus', 'model=Taurus X',\n",
       "       'model=Tempo', 'model=Tercel', 'model=Terrain', 'model=Terraza',\n",
       "       'model=Thunderbird', 'model=Tiburon', 'model=Tiguan',\n",
       "       'model=Titan', 'model=Toronado', 'model=Torrent', 'model=Touareg',\n",
       "       'model=Touareg 2', 'model=Town Car', 'model=Town and Country',\n",
       "       'model=Tracker', 'model=TrailBlazer', 'model=TrailBlazer EXT',\n",
       "       'model=Trans Sport', 'model=Transit Connect',\n",
       "       'model=Transit Wagon', 'model=Traverse', 'model=Trax',\n",
       "       'model=Tribeca', 'model=Tribute', 'model=Tribute Hybrid',\n",
       "       'model=Truck', 'model=Tucson', 'model=Tundra', 'model=Typhoon',\n",
       "       'model=Uplander', 'model=V12 Vanquish', 'model=V12 Vantage',\n",
       "       'model=V12 Vantage S', 'model=V40', 'model=V50', 'model=V60',\n",
       "       'model=V60 Cross Country', 'model=V70', 'model=V8 Vantage',\n",
       "       'model=Van', 'model=Vanagon', 'model=Vandura', 'model=Vanquish',\n",
       "       'model=Vanwagon', 'model=Veloster', 'model=Venture', 'model=Venza',\n",
       "       'model=Veracruz', 'model=Verano', 'model=Verona', 'model=Versa',\n",
       "       'model=Versa Note', 'model=Veyron 16.4', 'model=Vibe',\n",
       "       'model=Vigor', 'model=Viper', 'model=Virage', 'model=Vitara',\n",
       "       'model=Voyager', 'model=WRX', 'model=Windstar',\n",
       "       'model=Windstar Cargo', 'model=Wraith', 'model=X-90', 'model=X1',\n",
       "       'model=X3', 'model=X4', 'model=X5', 'model=X5 M', 'model=X6',\n",
       "       'model=X6 M', 'model=XC', 'model=XC60', 'model=XC70', 'model=XC90',\n",
       "       'model=XG300', 'model=XG350', 'model=XL-7', 'model=XL7',\n",
       "       'model=XLR', 'model=XLR-V', 'model=XT', 'model=XT5', 'model=XTS',\n",
       "       'model=XV Crosstrek', 'model=Xterra', 'model=Yaris',\n",
       "       'model=Yaris iA', 'model=Yukon', 'model=Yukon Denali',\n",
       "       'model=Yukon Hybrid', 'model=Yukon XL', 'model=Z3', 'model=Z4',\n",
       "       'model=Z4 M', 'model=Z8', 'model=ZDX', 'model=allroad',\n",
       "       'model=allroad quattro', 'model=e-Golf', 'model=i-MiEV',\n",
       "       'model=i3', 'model=iA', 'model=iQ', 'model=tC', 'model=xA',\n",
       "       'model=xB', 'model=xD', 'transmission_type=AUTOMATED_MANUAL',\n",
       "       'transmission_type=AUTOMATIC', 'transmission_type=DIRECT_DRIVE',\n",
       "       'transmission_type=MANUAL', 'transmission_type=UNKNOWN',\n",
       "       'vehicle_style=2dr Hatchback', 'vehicle_style=2dr SUV',\n",
       "       'vehicle_style=4dr Hatchback', 'vehicle_style=4dr SUV',\n",
       "       'vehicle_style=Cargo Minivan', 'vehicle_style=Cargo Van',\n",
       "       'vehicle_style=Convertible', 'vehicle_style=Convertible SUV',\n",
       "       'vehicle_style=Coupe', 'vehicle_style=Crew Cab Pickup',\n",
       "       'vehicle_style=Extended Cab Pickup',\n",
       "       'vehicle_style=Passenger Minivan', 'vehicle_style=Passenger Van',\n",
       "       'vehicle_style=Regular Cab Pickup', 'vehicle_style=Sedan',\n",
       "       'vehicle_style=Wagon', 'year'], dtype=object)"
      ]
     },
     "execution_count": 115,
     "metadata": {},
     "output_type": "execute_result"
    }
   ],
   "source": [
    "dv.get_feature_names_out()"
   ]
  },
  {
   "cell_type": "code",
   "execution_count": 89,
   "id": "c0625b5e",
   "metadata": {},
   "outputs": [],
   "source": [
    "X_train = dv.fit_transform(train_dicts)"
   ]
  },
  {
   "cell_type": "code",
   "execution_count": 90,
   "id": "b78f3eac",
   "metadata": {},
   "outputs": [
    {
     "data": {
      "text/plain": [
       "(7148, 943)"
      ]
     },
     "execution_count": 90,
     "metadata": {},
     "output_type": "execute_result"
    }
   ],
   "source": [
    "X_train.shape"
   ]
  },
  {
   "cell_type": "code",
   "execution_count": 91,
   "id": "038a9d32",
   "metadata": {},
   "outputs": [],
   "source": [
    "val_dicts = df_val[cat_features + num_features].to_dict(orient='records')"
   ]
  },
  {
   "cell_type": "code",
   "execution_count": 92,
   "id": "ad5c9d17",
   "metadata": {},
   "outputs": [],
   "source": [
    "X_val = dv.transform(val_dicts)"
   ]
  },
  {
   "cell_type": "code",
   "execution_count": 93,
   "id": "a2335430",
   "metadata": {},
   "outputs": [
    {
     "data": {
      "text/plain": [
       "(2383, 943)"
      ]
     },
     "execution_count": 93,
     "metadata": {},
     "output_type": "execute_result"
    }
   ],
   "source": [
    "X_val.shape"
   ]
  },
  {
   "cell_type": "code",
   "execution_count": 94,
   "id": "a5db6c96",
   "metadata": {},
   "outputs": [],
   "source": [
    "test_dicts = df_test[cat_features + num_features].to_dict(orient='records')\n",
    "X_test = dv.transform(test_dicts)"
   ]
  },
  {
   "cell_type": "code",
   "execution_count": 95,
   "id": "18e0fb01",
   "metadata": {},
   "outputs": [
    {
     "data": {
      "text/plain": [
       "(2383, 943)"
      ]
     },
     "execution_count": 95,
     "metadata": {},
     "output_type": "execute_result"
    }
   ],
   "source": [
    "X_test.shape"
   ]
  },
  {
   "cell_type": "code",
   "execution_count": 96,
   "id": "b2132ae4",
   "metadata": {},
   "outputs": [],
   "source": [
    "#let let's train Logistic Regression\n",
    "from sklearn.linear_model import LogisticRegression"
   ]
  },
  {
   "cell_type": "code",
   "execution_count": 97,
   "id": "75388266",
   "metadata": {},
   "outputs": [
    {
     "data": {
      "text/plain": [
       "LogisticRegression(C=10, max_iter=1000, random_state=42, solver='liblinear')"
      ]
     },
     "execution_count": 97,
     "metadata": {},
     "output_type": "execute_result"
    }
   ],
   "source": [
    "model = LogisticRegression(solver='liblinear', C=10, max_iter=1000, random_state=42)\n",
    "model.fit(X_train, y_train)"
   ]
  },
  {
   "cell_type": "code",
   "execution_count": 98,
   "id": "e5ca5be1",
   "metadata": {},
   "outputs": [
    {
     "data": {
      "text/plain": [
       "array([[ 4.86054814e-02,  1.00098644e-02,  3.28265488e-02,\n",
       "         4.43441928e-02,  1.05608228e+00,  6.25674521e-01,\n",
       "         2.39540732e-01,  2.20221019e+00,  1.89632136e+00,\n",
       "         8.30128252e-02,  3.50844061e-08, -4.02712412e-01,\n",
       "         1.86626964e+00, -1.48231172e+00, -1.24449281e+00,\n",
       "        -2.87131583e+00, -2.02838390e-01,  1.41601032e-01,\n",
       "        -1.36744126e+00, -8.46493478e-01,  1.77990866e-01,\n",
       "         1.83474221e-03, -1.21176628e+00, -2.06695965e+00,\n",
       "         2.72851176e-01, -1.45430017e+00,  3.91551473e-03,\n",
       "         1.83965796e+00,  1.18137429e+00,  1.10501514e+00,\n",
       "         2.35198909e+00,  4.25976633e-01,  1.84719541e-03,\n",
       "        -1.10029030e+00,  1.40581643e-04,  1.17480627e+00,\n",
       "        -9.46649227e-01, -8.04677256e-01, -5.84220754e-01,\n",
       "        -4.82685620e-02, -1.63677088e+00,  1.46647670e+00,\n",
       "         3.56726450e-01,  9.86045664e-01, -1.02011021e-01,\n",
       "         1.12404879e-01, -1.56995016e+00, -1.02451248e+00,\n",
       "         1.59132099e+00, -5.59075934e-01, -5.58773063e-01,\n",
       "         8.35551672e-01, -3.04073735e-01, -6.66609025e-02,\n",
       "        -1.59891968e-02, -2.75056931e-03, -1.53528449e-03,\n",
       "        -2.76810786e-01, -3.89106030e-01, -1.32860548e-03,\n",
       "        -9.38593261e-04, -1.19602197e-03, -1.32479764e-01,\n",
       "         3.54686214e-02,  4.65525162e-01, -2.55818564e-01,\n",
       "        -1.12564617e-01, -4.27831579e-02, -6.97072106e-02,\n",
       "        -4.35882167e-02, -3.64254697e-04, -3.59788444e-03,\n",
       "        -4.43258495e-01,  6.14535973e-02, -4.49447274e-02,\n",
       "         5.88457166e-01,  2.89676750e-01, -1.42896136e-01,\n",
       "        -1.48112001e-02,  3.40287264e-02,  1.04046131e-04,\n",
       "         6.25674521e-01,  3.21765905e-01, -1.01606966e-02,\n",
       "         4.70132953e-01,  2.64365479e-01, -1.86175729e-02,\n",
       "        -6.67074019e-01, -1.80601030e-02, -1.06386742e-01,\n",
       "        -4.37847754e-02,  1.14650053e-02, -5.83977822e-02,\n",
       "         7.11561677e-04,  9.97665865e-05,  9.63255369e-03,\n",
       "         1.37036032e-04, -6.83135281e-02,  1.66504336e-01,\n",
       "         6.81747033e-02, -5.70869686e-01, -3.10670227e-03,\n",
       "         6.54447518e-04,  1.13563374e-03, -4.14563173e-03,\n",
       "         7.45931876e-02, -1.12493413e-02, -1.20033981e-03,\n",
       "        -4.98659696e-03, -3.54052127e-01, -7.38387504e-03,\n",
       "        -3.04379038e-01, -3.04548788e-02,  6.22660332e-01,\n",
       "         2.93138865e-01, -2.18055251e-01,  2.08933498e-01,\n",
       "         2.10975943e-01, -3.31874842e-02, -6.98675525e-02,\n",
       "        -3.12852908e-02,  4.59368658e-01, -8.16897462e-02,\n",
       "        -5.06679220e-03, -2.77281015e-02, -5.55669487e-02,\n",
       "        -2.03495394e-02, -1.16441347e-01, -5.26683645e-01,\n",
       "        -1.76943287e-01,  5.81533784e-01,  5.74363234e-01,\n",
       "         2.33661306e-01,  9.16081942e-02,  4.71520731e-05,\n",
       "         2.06275636e-04,  3.45931025e-04, -6.96544381e-01,\n",
       "        -5.60056447e-02,  7.70306774e-01,  2.72268314e-01,\n",
       "        -7.35919158e-03, -9.32378089e-04, -5.56498041e-01,\n",
       "        -8.33697515e-02, -7.34540784e-02, -2.21775304e-02,\n",
       "        -4.55346131e-03,  2.46446929e-02,  1.98604524e-02,\n",
       "         5.43094425e-04, -2.77427126e-02, -2.54853051e-03,\n",
       "        -3.25956731e-02, -6.67799863e-02, -2.79247048e-01,\n",
       "        -8.92405158e-03, -4.18748257e-02,  8.64606038e-01,\n",
       "         2.09824502e-02, -1.79843918e-01, -2.26479707e-04,\n",
       "        -4.38021081e-03, -3.94590277e-03, -3.72187956e-02,\n",
       "         4.90901516e-01, -3.49347924e-01,  3.41384212e-01,\n",
       "        -6.10724527e-02,  1.20085173e-05, -1.99044767e-03,\n",
       "         9.68802541e-02, -5.69546390e-04, -1.50655032e-01,\n",
       "        -1.36724350e-02,  5.77121916e-03,  3.93787022e-04,\n",
       "        -1.39652478e-01, -1.80541226e-03, -2.81516076e-03,\n",
       "        -3.13427794e-03, -3.82755020e-01, -1.80144878e-02,\n",
       "        -1.82998565e-02, -1.29509558e-01, -6.93659230e-01,\n",
       "        -2.08699170e-03,  2.23869584e-01,  1.16137896e-01,\n",
       "        -1.08046528e-02, -8.82703642e-02, -4.74446588e-01,\n",
       "         3.20267132e-01, -2.64932279e-01, -9.85772391e-04,\n",
       "        -2.89315728e-03, -5.63344751e-04,  1.15622376e-03,\n",
       "        -2.61821264e-02,  6.65309504e-01, -3.33044400e-02,\n",
       "        -1.44325527e-02, -4.94387151e-03, -4.54560969e-02,\n",
       "        -1.17380049e-01,  9.72762960e-03,  1.12404879e-01,\n",
       "         2.48211512e-01, -1.35861113e-01,  5.38252138e-03,\n",
       "        -1.89707945e-01,  4.20669106e-01,  5.38594066e-02,\n",
       "        -2.02442933e-01, -1.24501437e-02,  1.94257174e-01,\n",
       "         5.63245159e-01,  7.67434339e-02,  1.14078515e-01,\n",
       "         9.37271578e-05,  2.17513849e-04,  1.58630732e-04,\n",
       "        -2.98470294e-02, -1.68544109e-01, -2.08737133e-01,\n",
       "        -1.40711085e-02, -8.56379878e-03, -5.05310540e-02,\n",
       "         1.23899802e-01, -6.33731370e-03, -1.11027833e+00,\n",
       "        -3.00530700e-01, -8.53463493e-02, -1.64515021e-01,\n",
       "        -9.70760114e-01, -2.23403563e-02, -2.36415426e-02,\n",
       "        -3.71780787e-03,  2.51545193e-05, -4.46951281e-02,\n",
       "        -4.84403166e-02, -5.16759179e-03,  5.64961676e-02,\n",
       "         3.00471647e-01,  1.36415745e-01, -5.63914551e-04,\n",
       "        -1.74141008e-02, -5.27022363e-03, -9.55287521e-01,\n",
       "        -9.00577087e-01, -6.62902489e-03, -9.09340873e-04,\n",
       "        -1.60179859e-01, -4.76284804e-04, -1.18923093e-03,\n",
       "        -9.00802691e-04, -4.80996494e-02, -6.22786904e-01,\n",
       "        -5.22288567e-03, -6.08190300e-02,  7.85840634e-01,\n",
       "         2.03207036e-04,  9.91906680e-05,  1.36501718e-03,\n",
       "         8.43558535e-05,  5.60405387e-06,  1.81274776e-04,\n",
       "         1.79539852e-05,  2.39788850e-05,  1.49070270e-05,\n",
       "        -1.17777095e-03,  5.72912127e-02, -4.49009652e-02,\n",
       "        -1.47152426e-03, -9.16019233e-04,  1.52880677e-01,\n",
       "         1.01516984e-02,  1.59617402e-01, -2.23039839e-03,\n",
       "        -3.01448246e-02, -3.05911788e-01, -1.22806558e-02,\n",
       "        -1.10623339e-02, -4.53556510e-02, -9.78500732e-03,\n",
       "        -2.91150930e-03, -2.00160573e-03, -2.54084352e-03,\n",
       "        -1.28664772e-02, -1.05952096e-02, -1.53210942e-02,\n",
       "         2.98063573e-03,  3.20379478e-04,  1.10495683e-02,\n",
       "         5.40450313e-01, -6.48923904e-02, -2.50363807e-02,\n",
       "         4.64053421e-05, -2.60701269e-03,  6.13789198e-01,\n",
       "        -4.54152101e-03,  1.23318310e-03, -2.43043889e-02,\n",
       "         1.67357884e-01, -2.76708959e-02,  6.09243341e-02,\n",
       "         1.19769493e+00, -6.37544311e-04, -3.48026203e-03,\n",
       "        -4.85700688e-03,  1.32237846e+00, -2.36718960e-02,\n",
       "        -3.71975188e-02, -1.75532708e-01, -3.76377600e-03,\n",
       "        -1.28284271e-03, -4.23728263e-02,  2.39448067e-01,\n",
       "        -7.73281532e-01, -1.05293911e+00, -2.65079835e-02,\n",
       "        -1.80456894e-01, -4.38916811e-01, -5.44724084e-02,\n",
       "        -2.46660038e-02, -4.01661897e-02, -4.68606924e-03,\n",
       "        -5.80439775e-03, -2.89542294e-03, -5.39639636e-02,\n",
       "        -3.57613466e-03, -2.03098884e-02,  7.97222534e-01,\n",
       "         7.92180974e-01, -5.03438475e-02, -8.43369493e-02,\n",
       "        -2.90951909e-02,  2.35490970e-01, -6.77191619e-01,\n",
       "        -4.96327100e-01, -8.38905484e-02,  1.27453390e-01,\n",
       "        -1.08992470e-01, -1.18346593e-01,  3.19216706e-02,\n",
       "         2.60543719e-02,  1.49501978e-02,  2.32599086e-02,\n",
       "         1.11526131e-01, -3.77630551e-02, -4.00719818e-02,\n",
       "        -1.35597992e-03,  1.37293532e-01, -1.17225589e-02,\n",
       "        -3.50757266e-03,  7.09973030e-01, -3.56200010e-04,\n",
       "         7.07499998e-01,  8.49863883e-01, -4.08758201e-02,\n",
       "        -1.63950187e-02, -2.24012212e-01, -1.35003343e-03,\n",
       "        -1.56948737e-01, -2.63331389e-02,  7.54568029e-01,\n",
       "        -7.68156268e-03, -4.95908893e-02, -1.18667916e-02,\n",
       "         2.34160030e-06,  2.40929174e-02,  3.03610528e-05,\n",
       "        -1.42162633e-01, -5.43706847e-02,  3.59862753e-01,\n",
       "         1.10046374e-01,  7.51280481e-02,  8.94843803e-03,\n",
       "        -1.76654944e-04, -5.46643691e-03, -3.57310291e-01,\n",
       "        -7.48121804e-03, -2.70373217e-02, -1.89114715e-01,\n",
       "        -1.16617035e-01,  5.07728429e-04, -2.64715705e-02,\n",
       "        -2.43697566e-02, -1.01645456e-02, -1.96385357e-01,\n",
       "        -4.01872709e-02, -2.73340167e-04, -4.00583990e-02,\n",
       "        -8.18331463e-03, -2.91756794e-02, -3.88103111e-01,\n",
       "        -9.22128196e-02, -5.28875471e-02,  2.02943220e-01,\n",
       "         9.28687136e-02, -4.29581916e-01,  1.16973787e-02,\n",
       "        -7.11361482e-03, -1.57728528e-04, -6.88092527e-01,\n",
       "        -5.25106555e-01,  9.43985936e-02, -2.28695098e-01,\n",
       "        -1.81291560e-01, -4.11123441e-03, -1.03843530e-01,\n",
       "        -3.25443997e-01,  1.77990866e-01,  2.41819503e-01,\n",
       "        -2.17597345e-01, -1.06041356e-01,  2.93197245e-01,\n",
       "         8.04316903e-03, -7.32490293e-02, -6.58427100e-01,\n",
       "         1.10890133e-03,  4.91171770e-01,  2.47032486e-01,\n",
       "         2.86355872e-01, -2.23732768e-01,  8.46222051e-02,\n",
       "         2.52536825e-02,  9.03122242e-02,  2.68357008e-03,\n",
       "         1.65161374e-03, -1.47874616e-01, -2.67217146e-01,\n",
       "         1.19619889e-01,  3.60609724e-01, -7.62552612e-03,\n",
       "         2.34201098e-03,  4.43236449e-02, -7.22377643e-01,\n",
       "         7.92819964e-02,  3.04959108e-04,  2.83474078e-04,\n",
       "        -4.67415869e-02, -3.86030314e-03, -1.77782666e-01,\n",
       "        -1.60179646e-01, -6.80935836e-02,  4.55956400e-02,\n",
       "         1.81863133e-02,  7.28304870e-03, -1.32570800e-02,\n",
       "        -1.37251820e-01, -2.18140107e-01, -2.65526234e-02,\n",
       "        -5.94309077e-03,  1.73558431e-01, -1.71723688e-01,\n",
       "        -4.85441086e-02, -2.10548684e-02, -9.95842786e-02,\n",
       "         2.15929095e-01,  2.22141035e-01, -1.23298813e-04,\n",
       "         1.22572668e-04, -7.38431246e-02, -6.89546245e-02,\n",
       "        -2.13041824e-01, -2.87611115e-03, -1.59763595e-01,\n",
       "        -1.11578898e-01,  1.23994131e-01, -5.05066012e-02,\n",
       "        -1.32451951e-01,  2.11230645e-02,  3.88166868e-03,\n",
       "        -6.85358727e-03, -2.59355796e-01, -6.33515563e-04,\n",
       "        -3.52070333e-02, -1.40389731e-01, -4.91141050e-03,\n",
       "        -2.95306636e-02, -1.90774513e-02, -4.92946329e-02,\n",
       "        -3.16338558e-02,  1.22933236e-01, -2.03036479e-01,\n",
       "        -1.99343509e-01, -6.88843923e-02, -5.75492749e-02,\n",
       "        -7.00885001e-02, -3.41691616e-01, -5.26861993e-02,\n",
       "        -2.46464284e-04,  1.44274055e-01, -6.84390462e-02,\n",
       "         1.72207606e-04, -3.34838514e-02,  4.07431886e-02,\n",
       "         1.44279177e-01,  1.16767513e-01, -6.42939148e-02,\n",
       "        -2.07912840e-01,  1.00187164e-01,  1.33264743e-01,\n",
       "         2.04364086e-03, -1.33015822e-02, -2.48105920e-03,\n",
       "        -1.80458429e-02,  1.68922801e-01,  2.67460664e-02,\n",
       "        -6.84115835e-01, -1.66166751e-02, -1.28097845e-01,\n",
       "        -6.70878019e-03,  2.73823762e-02, -7.75022899e-03,\n",
       "        -2.51430153e-03, -7.39880650e-04, -2.14486519e-02,\n",
       "        -2.69004051e-02, -9.60623733e-02, -9.99085607e-02,\n",
       "         3.36837317e-03, -3.79651748e-04,  1.83878794e-01,\n",
       "        -6.70269242e-03, -1.54819211e-03,  3.98751692e-01,\n",
       "         4.79349413e-01,  3.77742050e-02,  5.13773432e-03,\n",
       "        -1.91806141e-02,  5.43477440e-01,  6.36083740e-02,\n",
       "         9.91958296e-03,  3.59493556e-01,  1.31132965e-04,\n",
       "         1.08639718e-02,  1.27516423e-04,  1.32018652e-04,\n",
       "         8.58133591e-01, -3.15293535e-02, -1.71113776e-01,\n",
       "         1.44487771e-01, -2.60241744e-01,  3.06006738e-01,\n",
       "        -3.14638972e-02,  4.08150567e-05, -2.42105520e-02,\n",
       "        -2.00487734e-03, -9.91910620e-03, -8.49970081e-04,\n",
       "        -9.67458339e-02, -1.41947288e-03,  1.89674611e-01,\n",
       "        -5.89968377e-01, -1.19957000e-01, -1.50784252e-02,\n",
       "        -4.56372166e-03, -2.08073820e-02, -2.27900550e-02,\n",
       "        -2.55471790e-01, -1.12114920e-01, -2.63459559e-01,\n",
       "        -3.74112322e-03, -3.93703378e-01,  1.86328070e-04,\n",
       "        -8.20713858e-03, -8.90584858e-03, -1.97102440e-03,\n",
       "        -3.62109310e-02, -3.63649481e-04, -2.03125144e-04,\n",
       "        -3.50562353e-02, -4.41134916e-03, -9.14743608e-04,\n",
       "         1.59132099e+00, -9.96192071e-04, -2.23956151e-02,\n",
       "        -3.24440930e-03, -7.33199069e-02, -1.59027713e-02,\n",
       "        -6.93180555e-02,  1.16435939e-03,  4.74265034e-01,\n",
       "         3.74587708e-01,  1.86165313e-04, -9.14432498e-01,\n",
       "        -2.63679196e-01,  6.33259654e-01, -1.49705898e-03,\n",
       "        -5.66453828e-04, -6.68764830e-01,  1.07084853e-01,\n",
       "        -3.05350760e-03,  7.47463763e-02, -1.38987760e-02,\n",
       "        -4.02399449e-02, -1.06413668e-02, -2.08573262e-02,\n",
       "        -9.70255949e-02,  6.05792195e-01, -5.23621021e-05,\n",
       "        -2.72924816e-01, -3.90079890e-02, -1.89509843e-01,\n",
       "        -8.90810490e-02, -8.55071251e-02, -6.80246712e-03,\n",
       "        -1.22856983e-01,  2.57455624e-01,  1.62209746e-01,\n",
       "        -6.15532635e-04, -2.05506764e-01, -4.49467448e-02,\n",
       "        -4.96359899e-02,  5.39714477e-01,  1.48081866e-02,\n",
       "         9.12130729e-03,  2.90632572e-03, -8.26673087e-04,\n",
       "        -2.20194609e-01, -6.71374210e-05, -5.98472276e-03,\n",
       "        -6.07463059e-03, -3.12178653e-02, -3.19750266e-03,\n",
       "        -7.61193490e-03, -2.47692625e-02, -1.87657377e-03,\n",
       "        -4.24502209e-04, -9.77323350e-04, -3.57456669e-04,\n",
       "         1.48929304e-01, -4.49417097e-01, -1.50249026e-01,\n",
       "         6.11044216e-02,  4.74701217e-01,  3.29066529e-01,\n",
       "         1.53021527e-01,  8.14270693e-01,  3.00902244e-01,\n",
       "         4.78260097e-01,  1.99582827e-02, -8.05511039e-02,\n",
       "        -6.53476385e-01,  1.49266192e-01,  7.56921991e-01,\n",
       "         1.58623625e-01,  2.77288623e-02,  6.45392421e-02,\n",
       "         2.03033792e-01,  6.00230727e-01, -7.96850965e-03,\n",
       "         1.03453440e-02, -3.99774563e-03, -2.43136766e-03,\n",
       "        -1.31359826e-01,  2.68086809e-01, -5.23227728e-02,\n",
       "        -1.43604082e-01,  2.81738924e-01,  1.81802089e-01,\n",
       "        -1.15314392e+00,  5.74382764e-01,  2.87942400e-01,\n",
       "         1.30642309e-02,  2.31680721e-03,  3.16739527e-05,\n",
       "        -1.45139933e-02, -1.59805259e-01, -2.19540702e-01,\n",
       "         2.88835630e-01,  1.58613158e-01,  9.02205148e-02,\n",
       "        -1.63255501e-02, -2.38184750e-02, -8.92370207e-03,\n",
       "        -3.98335777e-02, -3.26266673e-01, -3.13459249e-03,\n",
       "        -4.20101670e-04, -3.47704897e-03, -7.84975545e-01,\n",
       "        -3.70971144e-03, -2.08614152e-04, -1.07425293e-02,\n",
       "         1.12873203e-01,  1.15694003e+00,  1.12043445e-01,\n",
       "        -8.50730623e-03,  6.93863762e-03,  3.13837551e-04,\n",
       "        -8.61480396e-03, -2.69397616e-01, -7.35301425e-03,\n",
       "        -1.13308247e-02, -3.10787086e-03,  1.95741564e-05,\n",
       "        -3.58400500e-03, -1.96414060e-02, -2.12335187e-02,\n",
       "        -1.43718526e-01, -8.34470630e-02, -1.19323396e-02,\n",
       "        -1.33002537e-02, -1.80716398e-02, -4.99260207e-03,\n",
       "        -6.74806792e-03, -8.85324831e-04, -4.39197278e-03,\n",
       "         4.50920864e-03, -7.09413639e-02,  6.99607748e-02,\n",
       "         1.36979639e-01, -9.66392604e-02,  8.13423943e-02,\n",
       "         2.79729827e-03, -2.72896619e-01,  1.46201366e-01,\n",
       "         2.26436939e-03, -5.47162422e-02,  1.07905766e-04,\n",
       "         1.95914663e-01,  3.29337440e-02, -6.47745696e-02,\n",
       "        -1.96036214e-01,  4.80758191e-02,  1.63504371e-02,\n",
       "         3.23757088e-03,  2.60408318e-01,  1.73841146e-05,\n",
       "         1.20687402e-04,  4.81744707e-05,  4.86950432e-05,\n",
       "        -9.63860854e-03,  2.14871365e-02,  4.42385593e-04,\n",
       "        -2.12095162e-01,  1.69759599e-01,  1.24696921e-03,\n",
       "        -1.81620625e-02, -1.82161121e-02, -2.55434774e-03,\n",
       "        -6.56978909e-03, -7.05303919e-05, -4.43574018e-01,\n",
       "        -1.70161537e-01, -2.29411569e-01, -1.16071876e-01,\n",
       "        -7.10932009e-04, -1.52869641e-01, -6.81731061e-02,\n",
       "        -2.13979949e-02, -2.13239075e-03,  4.47609840e-01,\n",
       "         2.34223080e-01, -1.36759372e-03,  7.56565599e-03,\n",
       "         2.58516164e-05, -3.61320680e-03,  7.69840855e-01,\n",
       "         7.20097661e-01, -3.97715395e-01,  2.90908426e-01,\n",
       "        -2.07519597e-01, -2.19615254e-02, -2.67678308e-03,\n",
       "        -4.65305474e-04, -2.66058790e-02,  2.71931933e-01,\n",
       "         1.12241173e+00, -2.59227796e-01,  6.45197970e-01,\n",
       "        -7.57135988e-03, -9.50808317e-02, -2.00282739e-01,\n",
       "        -5.48045698e-02, -1.87385908e-02, -2.48404162e-03,\n",
       "        -5.69188039e-01, -1.02477350e-02, -1.23227133e-02,\n",
       "        -2.69199094e-03, -6.87920279e-01, -1.07175013e-02,\n",
       "        -1.62127292e-04, -1.48309390e-01, -2.57827541e-03,\n",
       "         3.75229565e-02, -1.41324169e-03, -3.76082918e-02,\n",
       "        -9.53757753e-03,  4.13983159e-01, -2.38932040e-03,\n",
       "        -1.48787105e-03, -6.21327721e-04, -2.09041010e-03,\n",
       "        -5.76109076e-04, -1.13642925e-02, -2.30547077e-03,\n",
       "         2.70492831e-01, -1.62004614e-01, -2.53992053e-01,\n",
       "        -1.00488195e-01,  1.95863233e-01,  7.21533181e-02,\n",
       "        -3.71954145e-01,  6.38428369e-01,  3.18982775e-01,\n",
       "        -2.18853617e-02, -4.22788356e-01, -1.41471800e-01,\n",
       "        -7.30091129e-04, -5.63747911e-04, -1.87697175e-01,\n",
       "        -5.77735668e-02, -3.87954827e-01, -6.16961445e-03,\n",
       "        -1.36480187e-01, -6.36516723e-01, -5.04446816e-03,\n",
       "        -1.06425541e-01,  1.37295900e+00,  3.99460766e-02,\n",
       "         8.21645994e-01, -1.16421403e-01, -6.22337356e-03,\n",
       "        -1.31471534e+00, -2.93273725e-01, -8.73643353e-03,\n",
       "        -4.19988769e-02,  6.02318897e-01,  1.25687444e-03,\n",
       "        -2.78454172e-02, -1.01469592e-01, -2.04383552e-01,\n",
       "        -2.08363442e-02, -3.11311924e-03, -5.65027543e-02,\n",
       "        -1.01851312e+00, -5.81102354e-02, -8.67369182e-02,\n",
       "         1.09400872e-02,  4.81390264e-03,  4.30791696e-04,\n",
       "        -3.02534487e-02, -1.70060873e-01, -2.58977851e-01,\n",
       "         5.02996019e-01, -4.73987655e-02,  2.00686892e-01,\n",
       "        -1.50918147e-04, -1.86962837e-04, -2.50359359e-03,\n",
       "         5.08155802e-04, -1.53083961e-04, -3.59063278e-02,\n",
       "        -1.36278642e-02, -3.86873124e-01, -2.00768280e-01,\n",
       "        -1.21116187e-01, -5.46396628e-03, -6.88880258e-03,\n",
       "        -3.76163621e-03,  3.50844061e-08, -2.60690402e-03,\n",
       "        -4.47599252e-03,  2.02925059e-03,  5.57843489e-04,\n",
       "        -6.33513891e-03, -1.16183047e-02, -3.33357868e-01,\n",
       "        -2.25611549e-02, -5.32647706e-03,  3.26457876e-05,\n",
       "        -3.69474686e-04, -5.56361082e-01,  9.54841052e-02,\n",
       "         2.39069975e-01,  1.74648380e-01,  3.22860904e-05,\n",
       "         8.28648026e-02,  1.59948044e-05, -1.21567276e-02,\n",
       "         3.86311321e-01,  3.52132537e-01,  5.73979803e-01,\n",
       "        -2.28770659e-03, -8.64114430e-03, -6.25802165e-02,\n",
       "        -6.70565899e-01,  8.11957862e-02,  1.44101670e-03,\n",
       "        -6.32251537e-04,  3.16816780e-02,  4.17023533e-01,\n",
       "        -2.67979104e-02, -2.17290616e-01, -5.15517884e-03,\n",
       "        -4.16366286e-04,  2.01863017e-01, -1.79045552e-02,\n",
       "         2.68306980e-01,  2.70231730e-01, -1.83320063e-01,\n",
       "         1.30642724e-01,  1.58128109e-01,  1.19727005e-02,\n",
       "         6.11346685e-01,  5.66180909e-01,  1.17411802e-01,\n",
       "        -4.26070979e-01, -1.22003671e-01,  1.95304927e-03,\n",
       "        -2.78475021e-03, -1.51568123e-03, -2.83958148e-02,\n",
       "        -2.03890862e-03, -9.78519042e-03, -3.11999112e-03,\n",
       "        -1.38717381e-01, -7.20940579e-02,  3.74782705e-01,\n",
       "        -1.84609330e-01, -6.85551341e-02, -9.00941647e-01,\n",
       "         3.06275804e-01, -1.26405296e+00,  1.29064712e+00,\n",
       "        -6.89173562e-02, -1.88548609e-01,  1.39539775e+00,\n",
       "         3.72630201e-01, -1.84910887e-01,  7.42143478e-02,\n",
       "        -8.17869997e-01,  8.00158011e-01,  1.70654641e-01,\n",
       "        -1.57631407e+00,  5.13177742e-01, -1.07932963e-02,\n",
       "        -6.10171710e-03]])"
      ]
     },
     "execution_count": 98,
     "metadata": {},
     "output_type": "execute_result"
    }
   ],
   "source": [
    "model.coef_"
   ]
  },
  {
   "cell_type": "code",
   "execution_count": 99,
   "id": "fa96ac3a",
   "metadata": {},
   "outputs": [
    {
     "data": {
      "text/plain": [
       "-0.08919319779743098"
      ]
     },
     "execution_count": 99,
     "metadata": {},
     "output_type": "execute_result"
    }
   ],
   "source": [
    "model.intercept_[0]"
   ]
  },
  {
   "cell_type": "code",
   "execution_count": 100,
   "id": "5f6dff8f",
   "metadata": {},
   "outputs": [
    {
     "data": {
      "text/plain": [
       "array([0, 0, 1, ..., 0, 0, 1])"
      ]
     },
     "execution_count": 100,
     "metadata": {},
     "output_type": "execute_result"
    }
   ],
   "source": [
    "model.predict(X_train)"
   ]
  },
  {
   "cell_type": "code",
   "execution_count": 101,
   "id": "761cb767",
   "metadata": {},
   "outputs": [
    {
     "data": {
      "text/plain": [
       "array([[9.59086643e-01, 4.09133569e-02],\n",
       "       [8.98441685e-01, 1.01558315e-01],\n",
       "       [1.08074782e-04, 9.99891925e-01],\n",
       "       ...,\n",
       "       [9.53389405e-01, 4.66105951e-02],\n",
       "       [9.99548536e-01, 4.51464453e-04],\n",
       "       [4.39461347e-01, 5.60538653e-01]])"
      ]
     },
     "execution_count": 101,
     "metadata": {},
     "output_type": "execute_result"
    }
   ],
   "source": [
    "# probability of price more than overage\n",
    "model. predict_proba(X_train)"
   ]
  },
  {
   "cell_type": "code",
   "execution_count": 102,
   "id": "f3ef2ec5",
   "metadata": {},
   "outputs": [
    {
     "data": {
      "text/plain": [
       "array([0.00873386, 0.99033286, 0.00157436, ..., 0.00145955, 0.97179501,\n",
       "       0.96248245])"
      ]
     },
     "execution_count": 102,
     "metadata": {},
     "output_type": "execute_result"
    }
   ],
   "source": [
    "# let's get predictions on validation dataset\n",
    "y_pred_val = model.predict_proba(X_val)[:, 1]\n",
    "y_pred_val"
   ]
  },
  {
   "cell_type": "code",
   "execution_count": 103,
   "id": "0facebe6",
   "metadata": {},
   "outputs": [],
   "source": [
    "higher_price = (y_pred_val >= 0.5)"
   ]
  },
  {
   "cell_type": "code",
   "execution_count": 104,
   "id": "6b3802d5",
   "metadata": {},
   "outputs": [
    {
     "data": {
      "text/plain": [
       "array([0, 1, 0, ..., 0, 1, 1])"
      ]
     },
     "execution_count": 104,
     "metadata": {},
     "output_type": "execute_result"
    }
   ],
   "source": [
    "higher_price.astype(int)"
   ]
  },
  {
   "cell_type": "code",
   "execution_count": 108,
   "id": "8d0412b4",
   "metadata": {},
   "outputs": [],
   "source": [
    "# check the accuracy on the validation dataset\n",
    "acc_val = (y_val == higher_price).mean()"
   ]
  },
  {
   "cell_type": "code",
   "execution_count": 109,
   "id": "23bcc557",
   "metadata": {},
   "outputs": [
    {
     "name": "stdout",
     "output_type": "stream",
     "text": [
      "0.93\n"
     ]
    }
   ],
   "source": [
    "print(round(acc_val, 2))"
   ]
  },
  {
   "cell_type": "markdown",
   "id": "40740754",
   "metadata": {},
   "source": [
    "### Question 5\n",
    "* Let's find the least useful feature using the feature elimination technique.\n",
    "* Train a model with all these features (using the same parameters as in Q4).\n",
    "* Now exclude each feature from this set and train a model without it. Record the accuracy for each model.\n",
    "* For each feature, calculate the difference between the original accuracy and the accuracy without the feature.\n",
    "Which of following feature has the smallest difference?\n",
    "\n",
    "* `year`\n",
    "* `engine_hp`\n",
    "* `transmission_type`\n",
    "* `city_mpg`\n",
    "Note: the difference doesn't have to be positive"
   ]
  },
  {
   "cell_type": "code",
   "execution_count": 116,
   "id": "65cd63dc",
   "metadata": {},
   "outputs": [
    {
     "data": {
      "text/plain": [
       "LogisticRegression(C=10, max_iter=1000, random_state=42, solver='liblinear')"
      ]
     },
     "execution_count": 116,
     "metadata": {},
     "output_type": "execute_result"
    }
   ],
   "source": [
    "#train the model and try to find less useful feature\n",
    "model = LogisticRegression(solver='liblinear', C=10, max_iter=1000, random_state=42)\n",
    "model.fit(X_train, y_train)"
   ]
  },
  {
   "cell_type": "code",
   "execution_count": 117,
   "id": "c302ea7d",
   "metadata": {},
   "outputs": [],
   "source": [
    "#import accuracy\n",
    "from sklearn.metrics import accuracy_score"
   ]
  },
  {
   "cell_type": "code",
   "execution_count": 120,
   "id": "2fe80292",
   "metadata": {},
   "outputs": [
    {
     "data": {
      "text/plain": [
       "0.9345362987830466"
      ]
     },
     "execution_count": 120,
     "metadata": {},
     "output_type": "execute_result"
    }
   ],
   "source": [
    "y_predv = model.predict(X_val)\n",
    "score_fullset = accuracy_score(y_val,y_predv)\n",
    "score_fullset"
   ]
  },
  {
   "cell_type": "code",
   "execution_count": 135,
   "id": "ea2744d9",
   "metadata": {},
   "outputs": [
    {
     "ename": "KeyError",
     "evalue": "\"['price'] not in index\"",
     "output_type": "error",
     "traceback": [
      "\u001b[0;31m---------------------------------------------------------------------------\u001b[0m",
      "\u001b[0;31mKeyError\u001b[0m                                  Traceback (most recent call last)",
      "\u001b[0;32m/var/folders/lr/3pzwz39j32s4d9z3244grp000000gn/T/ipykernel_73295/1877782409.py\u001b[0m in \u001b[0;36m<module>\u001b[0;34m\u001b[0m\n\u001b[1;32m      9\u001b[0m  \u001b[0;34m'city_mpg'\u001b[0m\u001b[0;34m,\u001b[0m\u001b[0;34m\u001b[0m\u001b[0;34m\u001b[0m\u001b[0m\n\u001b[1;32m     10\u001b[0m  'price']\n\u001b[0;32m---> 11\u001b[0;31m \u001b[0mtrain_dictsy\u001b[0m \u001b[0;34m=\u001b[0m \u001b[0mdf_train\u001b[0m\u001b[0;34m[\u001b[0m\u001b[0mf1\u001b[0m\u001b[0;34m]\u001b[0m\u001b[0;34m.\u001b[0m\u001b[0mto_dict\u001b[0m\u001b[0;34m(\u001b[0m\u001b[0morient\u001b[0m\u001b[0;34m=\u001b[0m\u001b[0;34m'records'\u001b[0m\u001b[0;34m)\u001b[0m\u001b[0;34m\u001b[0m\u001b[0;34m\u001b[0m\u001b[0m\n\u001b[0m",
      "\u001b[0;32m~/opt/anaconda3/lib/python3.9/site-packages/pandas/core/frame.py\u001b[0m in \u001b[0;36m__getitem__\u001b[0;34m(self, key)\u001b[0m\n\u001b[1;32m   3509\u001b[0m             \u001b[0;32mif\u001b[0m \u001b[0mis_iterator\u001b[0m\u001b[0;34m(\u001b[0m\u001b[0mkey\u001b[0m\u001b[0;34m)\u001b[0m\u001b[0;34m:\u001b[0m\u001b[0;34m\u001b[0m\u001b[0;34m\u001b[0m\u001b[0m\n\u001b[1;32m   3510\u001b[0m                 \u001b[0mkey\u001b[0m \u001b[0;34m=\u001b[0m \u001b[0mlist\u001b[0m\u001b[0;34m(\u001b[0m\u001b[0mkey\u001b[0m\u001b[0;34m)\u001b[0m\u001b[0;34m\u001b[0m\u001b[0;34m\u001b[0m\u001b[0m\n\u001b[0;32m-> 3511\u001b[0;31m             \u001b[0mindexer\u001b[0m \u001b[0;34m=\u001b[0m \u001b[0mself\u001b[0m\u001b[0;34m.\u001b[0m\u001b[0mcolumns\u001b[0m\u001b[0;34m.\u001b[0m\u001b[0m_get_indexer_strict\u001b[0m\u001b[0;34m(\u001b[0m\u001b[0mkey\u001b[0m\u001b[0;34m,\u001b[0m \u001b[0;34m\"columns\"\u001b[0m\u001b[0;34m)\u001b[0m\u001b[0;34m[\u001b[0m\u001b[0;36m1\u001b[0m\u001b[0;34m]\u001b[0m\u001b[0;34m\u001b[0m\u001b[0;34m\u001b[0m\u001b[0m\n\u001b[0m\u001b[1;32m   3512\u001b[0m \u001b[0;34m\u001b[0m\u001b[0m\n\u001b[1;32m   3513\u001b[0m         \u001b[0;31m# take() does not accept boolean indexers\u001b[0m\u001b[0;34m\u001b[0m\u001b[0;34m\u001b[0m\u001b[0m\n",
      "\u001b[0;32m~/opt/anaconda3/lib/python3.9/site-packages/pandas/core/indexes/base.py\u001b[0m in \u001b[0;36m_get_indexer_strict\u001b[0;34m(self, key, axis_name)\u001b[0m\n\u001b[1;32m   5794\u001b[0m             \u001b[0mkeyarr\u001b[0m\u001b[0;34m,\u001b[0m \u001b[0mindexer\u001b[0m\u001b[0;34m,\u001b[0m \u001b[0mnew_indexer\u001b[0m \u001b[0;34m=\u001b[0m \u001b[0mself\u001b[0m\u001b[0;34m.\u001b[0m\u001b[0m_reindex_non_unique\u001b[0m\u001b[0;34m(\u001b[0m\u001b[0mkeyarr\u001b[0m\u001b[0;34m)\u001b[0m\u001b[0;34m\u001b[0m\u001b[0;34m\u001b[0m\u001b[0m\n\u001b[1;32m   5795\u001b[0m \u001b[0;34m\u001b[0m\u001b[0m\n\u001b[0;32m-> 5796\u001b[0;31m         \u001b[0mself\u001b[0m\u001b[0;34m.\u001b[0m\u001b[0m_raise_if_missing\u001b[0m\u001b[0;34m(\u001b[0m\u001b[0mkeyarr\u001b[0m\u001b[0;34m,\u001b[0m \u001b[0mindexer\u001b[0m\u001b[0;34m,\u001b[0m \u001b[0maxis_name\u001b[0m\u001b[0;34m)\u001b[0m\u001b[0;34m\u001b[0m\u001b[0;34m\u001b[0m\u001b[0m\n\u001b[0m\u001b[1;32m   5797\u001b[0m \u001b[0;34m\u001b[0m\u001b[0m\n\u001b[1;32m   5798\u001b[0m         \u001b[0mkeyarr\u001b[0m \u001b[0;34m=\u001b[0m \u001b[0mself\u001b[0m\u001b[0;34m.\u001b[0m\u001b[0mtake\u001b[0m\u001b[0;34m(\u001b[0m\u001b[0mindexer\u001b[0m\u001b[0;34m)\u001b[0m\u001b[0;34m\u001b[0m\u001b[0;34m\u001b[0m\u001b[0m\n",
      "\u001b[0;32m~/opt/anaconda3/lib/python3.9/site-packages/pandas/core/indexes/base.py\u001b[0m in \u001b[0;36m_raise_if_missing\u001b[0;34m(self, key, indexer, axis_name)\u001b[0m\n\u001b[1;32m   5857\u001b[0m \u001b[0;34m\u001b[0m\u001b[0m\n\u001b[1;32m   5858\u001b[0m             \u001b[0mnot_found\u001b[0m \u001b[0;34m=\u001b[0m \u001b[0mlist\u001b[0m\u001b[0;34m(\u001b[0m\u001b[0mensure_index\u001b[0m\u001b[0;34m(\u001b[0m\u001b[0mkey\u001b[0m\u001b[0;34m)\u001b[0m\u001b[0;34m[\u001b[0m\u001b[0mmissing_mask\u001b[0m\u001b[0;34m.\u001b[0m\u001b[0mnonzero\u001b[0m\u001b[0;34m(\u001b[0m\u001b[0;34m)\u001b[0m\u001b[0;34m[\u001b[0m\u001b[0;36m0\u001b[0m\u001b[0;34m]\u001b[0m\u001b[0;34m]\u001b[0m\u001b[0;34m.\u001b[0m\u001b[0munique\u001b[0m\u001b[0;34m(\u001b[0m\u001b[0;34m)\u001b[0m\u001b[0;34m)\u001b[0m\u001b[0;34m\u001b[0m\u001b[0;34m\u001b[0m\u001b[0m\n\u001b[0;32m-> 5859\u001b[0;31m             \u001b[0;32mraise\u001b[0m \u001b[0mKeyError\u001b[0m\u001b[0;34m(\u001b[0m\u001b[0;34mf\"{not_found} not in index\"\u001b[0m\u001b[0;34m)\u001b[0m\u001b[0;34m\u001b[0m\u001b[0;34m\u001b[0m\u001b[0m\n\u001b[0m\u001b[1;32m   5860\u001b[0m \u001b[0;34m\u001b[0m\u001b[0m\n\u001b[1;32m   5861\u001b[0m     \u001b[0;34m@\u001b[0m\u001b[0moverload\u001b[0m\u001b[0;34m\u001b[0m\u001b[0;34m\u001b[0m\u001b[0m\n",
      "\u001b[0;31mKeyError\u001b[0m: \"['price'] not in index\""
     ]
    }
   ],
   "source": [
    "# model without year\n",
    "f1 = ['make',\n",
    " 'model',\n",
    " 'engine_hp',\n",
    " 'engine_cylinders',\n",
    " 'transmission_type',\n",
    " 'vehicle_style',\n",
    " 'highway_mpg',\n",
    " 'city_mpg',\n",
    " 'price']\n",
    "train_dictsy = df_train[f1].to_dict(orient='records')"
   ]
  },
  {
   "cell_type": "code",
   "execution_count": null,
   "id": "e9447f22",
   "metadata": {},
   "outputs": [],
   "source": [
    "# model withiut engine_hp"
   ]
  },
  {
   "cell_type": "code",
   "execution_count": null,
   "id": "bcdfdf33",
   "metadata": {},
   "outputs": [],
   "source": [
    "# model without transmission_type"
   ]
  },
  {
   "cell_type": "code",
   "execution_count": null,
   "id": "ff7c2930",
   "metadata": {},
   "outputs": [],
   "source": [
    "# model without city_mpg"
   ]
  },
  {
   "cell_type": "code",
   "execution_count": 122,
   "id": "43350e44",
   "metadata": {},
   "outputs": [],
   "source": [
    "def feature_importance(features_for_train):\n",
    "    df_features = df[features_for_train]\n",
    "    df_train_full_leaveone, df_test_leaveone = train_test_split(df_features, test_size=0.2, random_state=42)\n",
    "    df_train_leaveone, df_val_leaveone = train_test_split(df_features, test_size=0.25, random_state=42)\n",
    "    del df_train_leaveone['price']\n",
    "    del df_val_leaveone['price']\n",
    "    del df_test_leaveone['price']\n",
    "    X_train = df_train_leaveone.values\n",
    "    X_val = df_val_leaveone.values\n",
    "    X_test = df_test_leave.values\n",
    "    model.fit(X_train, y_train)\n",
    "    y_pred = model.predict(X_val)\n",
    "\n",
    "    score = accuracy_score(y_val,y_pred)\n",
    "    return score"
   ]
  },
  {
   "cell_type": "code",
   "execution_count": null,
   "id": "44606efd",
   "metadata": {},
   "outputs": [],
   "source": [
    "features_list = []"
   ]
  },
  {
   "cell_type": "code",
   "execution_count": null,
   "id": "20f9d881",
   "metadata": {},
   "outputs": [],
   "source": [
    "for f in ['year', 'engine_hp', 'transmission_type', 'city_mpg']:\n",
    "    df_\n",
    "    del df"
   ]
  },
  {
   "cell_type": "markdown",
   "id": "67bfd990",
   "metadata": {},
   "source": [
    "### Question 6\n",
    "* For this question, we'll see how to use a linear regression model from Scikit-Learn.\n",
    "* We'll need to use the original column price. Apply the logarithmic transformation to this column.\n",
    "* Fit the Ridge regression model on the training data with a solver 'sag'. Set the seed to 42.\n",
    "* This model also has a parameter alpha. Let's try the following values: [0, 0.01, 0.1, 1, 10].\n",
    "* Round your RMSE scores to 3 decimal digits.\n",
    "Which of these alphas leads to the best RMSE on the validation set?\n",
    "\n",
    "* 0\n",
    "* 0.01\n",
    "* 0.1\n",
    "* 1\n",
    "* 10\n",
    "Note: If there are multiple options, select the smallest `alpha`.\n",
    "\n"
   ]
  },
  {
   "cell_type": "code",
   "execution_count": null,
   "id": "d309a16d",
   "metadata": {},
   "outputs": [],
   "source": []
  },
  {
   "cell_type": "code",
   "execution_count": null,
   "id": "87abc208",
   "metadata": {},
   "outputs": [],
   "source": []
  }
 ],
 "metadata": {
  "kernelspec": {
   "display_name": "Python 3 (ipykernel)",
   "language": "python",
   "name": "python3"
  },
  "language_info": {
   "codemirror_mode": {
    "name": "ipython",
    "version": 3
   },
   "file_extension": ".py",
   "mimetype": "text/x-python",
   "name": "python",
   "nbconvert_exporter": "python",
   "pygments_lexer": "ipython3",
   "version": "3.9.13"
  }
 },
 "nbformat": 4,
 "nbformat_minor": 5
}
